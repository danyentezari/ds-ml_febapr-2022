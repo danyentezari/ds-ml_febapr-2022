{
  "nbformat": 4,
  "nbformat_minor": 0,
  "metadata": {
    "colab": {
      "name": "deep-learning-exercise_house-prices.ipynb",
      "provenance": [],
      "collapsed_sections": []
    },
    "kernelspec": {
      "name": "python3",
      "display_name": "Python 3"
    },
    "language_info": {
      "name": "python"
    }
  },
  "cells": [
    {
      "cell_type": "markdown",
      "source": [
        "# Deep Learning Exercise - House Prices"
      ],
      "metadata": {
        "id": "_NcDOOQheukF"
      }
    },
    {
      "cell_type": "markdown",
      "source": [
        "### (1) Import data and libraries"
      ],
      "metadata": {
        "id": "9FFyjlKye9VJ"
      }
    },
    {
      "cell_type": "code",
      "execution_count": 1,
      "metadata": {
        "id": "M-0AOruQeqQ-"
      },
      "outputs": [],
      "source": [
        "# Import pandas, keras, and train_test_split from sklearn\n",
        "import pandas as pd\n",
        "\n",
        "# Import Sequential to build a sequence of\n",
        "# layers (input, output, and hidden layers)\n",
        "from keras.models import Sequential\n",
        "\n",
        "from keras.layers import *\n",
        "\n",
        "from sklearn.model_selection import train_test_split"
      ]
    },
    {
      "cell_type": "code",
      "source": [
        "# Import the data\n",
        "house_df = pd.read_csv('./ml_house_data_set_scaled.csv')"
      ],
      "metadata": {
        "id": "ghHusn5De4gd"
      },
      "execution_count": 2,
      "outputs": []
    },
    {
      "cell_type": "code",
      "source": [
        "# Preview the data (with .head())\n",
        "house_df.head()"
      ],
      "metadata": {
        "id": "BJX_dLnpe5wF",
        "colab": {
          "base_uri": "https://localhost:8080/",
          "height": 317
        },
        "outputId": "aea4337b-fa79-4d25-9547-2d94552dbd9c"
      },
      "execution_count": 3,
      "outputs": [
        {
          "output_type": "execute_result",
          "data": {
            "text/plain": [
              "   year_built  stories  num_bedrooms  full_bathrooms  half_bathrooms  \\\n",
              "0    0.763636     0.25      0.129032           0.125             1.0   \n",
              "1    0.642424     0.25      0.096774           0.125             1.0   \n",
              "2    0.909091     0.25      0.096774           0.250             0.0   \n",
              "3    0.921212     0.25      0.129032           0.250             0.0   \n",
              "4    0.933333     0.25      0.129032           0.250             0.0   \n",
              "\n",
              "   livable_sqft  total_sqft  garage_sqft  carport_sqft  has_fireplace  ...  \\\n",
              "0      0.136353    0.120047     0.061524      0.000000            1.0  ...   \n",
              "1      0.160126    0.129306     0.055996      0.000000            1.0  ...   \n",
              "2      0.127649    0.101852     0.000481      0.067935            0.0  ...   \n",
              "3      0.147635    0.147112     0.058039      0.000000            1.0  ...   \n",
              "4      0.127569    0.112924     0.052151      0.000000            1.0  ...   \n",
              "\n",
              "   city_South Anthony  city_South Stevenfurt  city_Toddshire  city_Wendybury  \\\n",
              "0                 0.0                    0.0             0.0             0.0   \n",
              "1                 0.0                    0.0             0.0             0.0   \n",
              "2                 0.0                    0.0             0.0             0.0   \n",
              "3                 0.0                    0.0             0.0             0.0   \n",
              "4                 0.0                    0.0             0.0             0.0   \n",
              "\n",
              "   city_West Ann  city_West Brittanyview  city_West Gerald  \\\n",
              "0            0.0                     0.0               0.0   \n",
              "1            0.0                     0.0               0.0   \n",
              "2            0.0                     0.0               0.0   \n",
              "3            0.0                     0.0               0.0   \n",
              "4            0.0                     0.0               0.0   \n",
              "\n",
              "   city_West Gregoryview  city_West Lydia  city_West Terrence  \n",
              "0                    0.0              0.0                 0.0  \n",
              "1                    0.0              0.0                 0.0  \n",
              "2                    0.0              0.0                 0.0  \n",
              "3                    0.0              0.0                 0.0  \n",
              "4                    0.0              0.0                 0.0  \n",
              "\n",
              "[5 rows x 64 columns]"
            ],
            "text/html": [
              "\n",
              "  <div id=\"df-b78bed69-5802-4ba4-8cce-feb7ab3869fe\">\n",
              "    <div class=\"colab-df-container\">\n",
              "      <div>\n",
              "<style scoped>\n",
              "    .dataframe tbody tr th:only-of-type {\n",
              "        vertical-align: middle;\n",
              "    }\n",
              "\n",
              "    .dataframe tbody tr th {\n",
              "        vertical-align: top;\n",
              "    }\n",
              "\n",
              "    .dataframe thead th {\n",
              "        text-align: right;\n",
              "    }\n",
              "</style>\n",
              "<table border=\"1\" class=\"dataframe\">\n",
              "  <thead>\n",
              "    <tr style=\"text-align: right;\">\n",
              "      <th></th>\n",
              "      <th>year_built</th>\n",
              "      <th>stories</th>\n",
              "      <th>num_bedrooms</th>\n",
              "      <th>full_bathrooms</th>\n",
              "      <th>half_bathrooms</th>\n",
              "      <th>livable_sqft</th>\n",
              "      <th>total_sqft</th>\n",
              "      <th>garage_sqft</th>\n",
              "      <th>carport_sqft</th>\n",
              "      <th>has_fireplace</th>\n",
              "      <th>...</th>\n",
              "      <th>city_South Anthony</th>\n",
              "      <th>city_South Stevenfurt</th>\n",
              "      <th>city_Toddshire</th>\n",
              "      <th>city_Wendybury</th>\n",
              "      <th>city_West Ann</th>\n",
              "      <th>city_West Brittanyview</th>\n",
              "      <th>city_West Gerald</th>\n",
              "      <th>city_West Gregoryview</th>\n",
              "      <th>city_West Lydia</th>\n",
              "      <th>city_West Terrence</th>\n",
              "    </tr>\n",
              "  </thead>\n",
              "  <tbody>\n",
              "    <tr>\n",
              "      <th>0</th>\n",
              "      <td>0.763636</td>\n",
              "      <td>0.25</td>\n",
              "      <td>0.129032</td>\n",
              "      <td>0.125</td>\n",
              "      <td>1.0</td>\n",
              "      <td>0.136353</td>\n",
              "      <td>0.120047</td>\n",
              "      <td>0.061524</td>\n",
              "      <td>0.000000</td>\n",
              "      <td>1.0</td>\n",
              "      <td>...</td>\n",
              "      <td>0.0</td>\n",
              "      <td>0.0</td>\n",
              "      <td>0.0</td>\n",
              "      <td>0.0</td>\n",
              "      <td>0.0</td>\n",
              "      <td>0.0</td>\n",
              "      <td>0.0</td>\n",
              "      <td>0.0</td>\n",
              "      <td>0.0</td>\n",
              "      <td>0.0</td>\n",
              "    </tr>\n",
              "    <tr>\n",
              "      <th>1</th>\n",
              "      <td>0.642424</td>\n",
              "      <td>0.25</td>\n",
              "      <td>0.096774</td>\n",
              "      <td>0.125</td>\n",
              "      <td>1.0</td>\n",
              "      <td>0.160126</td>\n",
              "      <td>0.129306</td>\n",
              "      <td>0.055996</td>\n",
              "      <td>0.000000</td>\n",
              "      <td>1.0</td>\n",
              "      <td>...</td>\n",
              "      <td>0.0</td>\n",
              "      <td>0.0</td>\n",
              "      <td>0.0</td>\n",
              "      <td>0.0</td>\n",
              "      <td>0.0</td>\n",
              "      <td>0.0</td>\n",
              "      <td>0.0</td>\n",
              "      <td>0.0</td>\n",
              "      <td>0.0</td>\n",
              "      <td>0.0</td>\n",
              "    </tr>\n",
              "    <tr>\n",
              "      <th>2</th>\n",
              "      <td>0.909091</td>\n",
              "      <td>0.25</td>\n",
              "      <td>0.096774</td>\n",
              "      <td>0.250</td>\n",
              "      <td>0.0</td>\n",
              "      <td>0.127649</td>\n",
              "      <td>0.101852</td>\n",
              "      <td>0.000481</td>\n",
              "      <td>0.067935</td>\n",
              "      <td>0.0</td>\n",
              "      <td>...</td>\n",
              "      <td>0.0</td>\n",
              "      <td>0.0</td>\n",
              "      <td>0.0</td>\n",
              "      <td>0.0</td>\n",
              "      <td>0.0</td>\n",
              "      <td>0.0</td>\n",
              "      <td>0.0</td>\n",
              "      <td>0.0</td>\n",
              "      <td>0.0</td>\n",
              "      <td>0.0</td>\n",
              "    </tr>\n",
              "    <tr>\n",
              "      <th>3</th>\n",
              "      <td>0.921212</td>\n",
              "      <td>0.25</td>\n",
              "      <td>0.129032</td>\n",
              "      <td>0.250</td>\n",
              "      <td>0.0</td>\n",
              "      <td>0.147635</td>\n",
              "      <td>0.147112</td>\n",
              "      <td>0.058039</td>\n",
              "      <td>0.000000</td>\n",
              "      <td>1.0</td>\n",
              "      <td>...</td>\n",
              "      <td>0.0</td>\n",
              "      <td>0.0</td>\n",
              "      <td>0.0</td>\n",
              "      <td>0.0</td>\n",
              "      <td>0.0</td>\n",
              "      <td>0.0</td>\n",
              "      <td>0.0</td>\n",
              "      <td>0.0</td>\n",
              "      <td>0.0</td>\n",
              "      <td>0.0</td>\n",
              "    </tr>\n",
              "    <tr>\n",
              "      <th>4</th>\n",
              "      <td>0.933333</td>\n",
              "      <td>0.25</td>\n",
              "      <td>0.129032</td>\n",
              "      <td>0.250</td>\n",
              "      <td>0.0</td>\n",
              "      <td>0.127569</td>\n",
              "      <td>0.112924</td>\n",
              "      <td>0.052151</td>\n",
              "      <td>0.000000</td>\n",
              "      <td>1.0</td>\n",
              "      <td>...</td>\n",
              "      <td>0.0</td>\n",
              "      <td>0.0</td>\n",
              "      <td>0.0</td>\n",
              "      <td>0.0</td>\n",
              "      <td>0.0</td>\n",
              "      <td>0.0</td>\n",
              "      <td>0.0</td>\n",
              "      <td>0.0</td>\n",
              "      <td>0.0</td>\n",
              "      <td>0.0</td>\n",
              "    </tr>\n",
              "  </tbody>\n",
              "</table>\n",
              "<p>5 rows × 64 columns</p>\n",
              "</div>\n",
              "      <button class=\"colab-df-convert\" onclick=\"convertToInteractive('df-b78bed69-5802-4ba4-8cce-feb7ab3869fe')\"\n",
              "              title=\"Convert this dataframe to an interactive table.\"\n",
              "              style=\"display:none;\">\n",
              "        \n",
              "  <svg xmlns=\"http://www.w3.org/2000/svg\" height=\"24px\"viewBox=\"0 0 24 24\"\n",
              "       width=\"24px\">\n",
              "    <path d=\"M0 0h24v24H0V0z\" fill=\"none\"/>\n",
              "    <path d=\"M18.56 5.44l.94 2.06.94-2.06 2.06-.94-2.06-.94-.94-2.06-.94 2.06-2.06.94zm-11 1L8.5 8.5l.94-2.06 2.06-.94-2.06-.94L8.5 2.5l-.94 2.06-2.06.94zm10 10l.94 2.06.94-2.06 2.06-.94-2.06-.94-.94-2.06-.94 2.06-2.06.94z\"/><path d=\"M17.41 7.96l-1.37-1.37c-.4-.4-.92-.59-1.43-.59-.52 0-1.04.2-1.43.59L10.3 9.45l-7.72 7.72c-.78.78-.78 2.05 0 2.83L4 21.41c.39.39.9.59 1.41.59.51 0 1.02-.2 1.41-.59l7.78-7.78 2.81-2.81c.8-.78.8-2.07 0-2.86zM5.41 20L4 18.59l7.72-7.72 1.47 1.35L5.41 20z\"/>\n",
              "  </svg>\n",
              "      </button>\n",
              "      \n",
              "  <style>\n",
              "    .colab-df-container {\n",
              "      display:flex;\n",
              "      flex-wrap:wrap;\n",
              "      gap: 12px;\n",
              "    }\n",
              "\n",
              "    .colab-df-convert {\n",
              "      background-color: #E8F0FE;\n",
              "      border: none;\n",
              "      border-radius: 50%;\n",
              "      cursor: pointer;\n",
              "      display: none;\n",
              "      fill: #1967D2;\n",
              "      height: 32px;\n",
              "      padding: 0 0 0 0;\n",
              "      width: 32px;\n",
              "    }\n",
              "\n",
              "    .colab-df-convert:hover {\n",
              "      background-color: #E2EBFA;\n",
              "      box-shadow: 0px 1px 2px rgba(60, 64, 67, 0.3), 0px 1px 3px 1px rgba(60, 64, 67, 0.15);\n",
              "      fill: #174EA6;\n",
              "    }\n",
              "\n",
              "    [theme=dark] .colab-df-convert {\n",
              "      background-color: #3B4455;\n",
              "      fill: #D2E3FC;\n",
              "    }\n",
              "\n",
              "    [theme=dark] .colab-df-convert:hover {\n",
              "      background-color: #434B5C;\n",
              "      box-shadow: 0px 1px 3px 1px rgba(0, 0, 0, 0.15);\n",
              "      filter: drop-shadow(0px 1px 2px rgba(0, 0, 0, 0.3));\n",
              "      fill: #FFFFFF;\n",
              "    }\n",
              "  </style>\n",
              "\n",
              "      <script>\n",
              "        const buttonEl =\n",
              "          document.querySelector('#df-b78bed69-5802-4ba4-8cce-feb7ab3869fe button.colab-df-convert');\n",
              "        buttonEl.style.display =\n",
              "          google.colab.kernel.accessAllowed ? 'block' : 'none';\n",
              "\n",
              "        async function convertToInteractive(key) {\n",
              "          const element = document.querySelector('#df-b78bed69-5802-4ba4-8cce-feb7ab3869fe');\n",
              "          const dataTable =\n",
              "            await google.colab.kernel.invokeFunction('convertToInteractive',\n",
              "                                                     [key], {});\n",
              "          if (!dataTable) return;\n",
              "\n",
              "          const docLinkHtml = 'Like what you see? Visit the ' +\n",
              "            '<a target=\"_blank\" href=https://colab.research.google.com/notebooks/data_table.ipynb>data table notebook</a>'\n",
              "            + ' to learn more about interactive tables.';\n",
              "          element.innerHTML = '';\n",
              "          dataTable['output_type'] = 'display_data';\n",
              "          await google.colab.output.renderOutput(dataTable, element);\n",
              "          const docLink = document.createElement('div');\n",
              "          docLink.innerHTML = docLinkHtml;\n",
              "          element.appendChild(docLink);\n",
              "        }\n",
              "      </script>\n",
              "    </div>\n",
              "  </div>\n",
              "  "
            ]
          },
          "metadata": {},
          "execution_count": 3
        }
      ]
    },
    {
      "cell_type": "code",
      "source": [
        "# Extract labels and features\n",
        "features_df = house_df.drop('sale_price', axis=1, inplace=False)\n",
        "labels_df = house_df['sale_price']"
      ],
      "metadata": {
        "id": "osCZjeN-2Lj5"
      },
      "execution_count": 4,
      "outputs": []
    },
    {
      "cell_type": "markdown",
      "source": [
        "### (2) Train/Test Split with Sklearn"
      ],
      "metadata": {
        "id": "SiviWsQAfBOm"
      }
    },
    {
      "cell_type": "code",
      "source": [
        "# Use train_test here\n",
        "# Note:\n",
        "# No need for the validation data. Use train_test_split() only once.\n",
        "trainF, testF, trainL, testL = train_test_split(features_df, labels_df, test_size=0.4, random_state=36) "
      ],
      "metadata": {
        "id": "ZFrikv4BfFDg"
      },
      "execution_count": 10,
      "outputs": []
    },
    {
      "cell_type": "markdown",
      "source": [
        "### (3) Build the Neural Network"
      ],
      "metadata": {
        "id": "equdAxOkfOQ_"
      }
    },
    {
      "cell_type": "code",
      "source": [
        "# Use Sequential here...\n",
        "model_dl = Sequential()\n",
        "\n",
        "# Input Layer\n",
        "model_dl.add(\n",
        "    Dense(50, input_dim=63, activation='relu')\n",
        ")\n",
        "\n",
        "# Hidden Layers\n",
        "model_dl.add(\n",
        "    Dense(100, activation='relu')\n",
        ")\n",
        "model_dl.add(\n",
        "    Dense(50, activation='relu')\n",
        ")\n",
        "\n",
        "\n",
        "# Output Layer\n",
        "model_dl.add(\n",
        "    Dense(1, activation='linear')\n",
        ")"
      ],
      "metadata": {
        "id": "NUCCu8-IfQOP"
      },
      "execution_count": 6,
      "outputs": []
    },
    {
      "cell_type": "code",
      "source": [
        "model_dl.compile(\n",
        "    loss='mean_squared_error',\n",
        "    optimizer='adam'\n",
        ")"
      ],
      "metadata": {
        "id": "lReQfsu42rG0"
      },
      "execution_count": 9,
      "outputs": []
    },
    {
      "cell_type": "code",
      "source": [
        "model_dl.fit( trainF, trainL, epochs=50, shuffle=True, verbose=2 )"
      ],
      "metadata": {
        "colab": {
          "base_uri": "https://localhost:8080/"
        },
        "id": "iiqe2YhD2wxH",
        "outputId": "ed52dee8-275f-4660-ae23-001b7b9b4841"
      },
      "execution_count": 11,
      "outputs": [
        {
          "output_type": "stream",
          "name": "stdout",
          "text": [
            "Epoch 1/50\n",
            "801/801 - 2s - loss: 1.7716e-04 - 2s/epoch - 2ms/step\n",
            "Epoch 2/50\n",
            "801/801 - 1s - loss: 1.0883e-04 - 1s/epoch - 1ms/step\n",
            "Epoch 3/50\n",
            "801/801 - 1s - loss: 9.9587e-05 - 1s/epoch - 1ms/step\n",
            "Epoch 4/50\n",
            "801/801 - 1s - loss: 9.9307e-05 - 1s/epoch - 1ms/step\n",
            "Epoch 5/50\n",
            "801/801 - 1s - loss: 9.2990e-05 - 1s/epoch - 1ms/step\n",
            "Epoch 6/50\n",
            "801/801 - 1s - loss: 9.3281e-05 - 1s/epoch - 1ms/step\n",
            "Epoch 7/50\n",
            "801/801 - 1s - loss: 8.9955e-05 - 1s/epoch - 1ms/step\n",
            "Epoch 8/50\n",
            "801/801 - 1s - loss: 9.2073e-05 - 1s/epoch - 1ms/step\n",
            "Epoch 9/50\n",
            "801/801 - 1s - loss: 8.6082e-05 - 1s/epoch - 2ms/step\n",
            "Epoch 10/50\n",
            "801/801 - 2s - loss: 8.8592e-05 - 2s/epoch - 2ms/step\n",
            "Epoch 11/50\n",
            "801/801 - 1s - loss: 8.9091e-05 - 1s/epoch - 1ms/step\n",
            "Epoch 12/50\n",
            "801/801 - 1s - loss: 8.1871e-05 - 1s/epoch - 1ms/step\n",
            "Epoch 13/50\n",
            "801/801 - 1s - loss: 8.3195e-05 - 1s/epoch - 1ms/step\n",
            "Epoch 14/50\n",
            "801/801 - 1s - loss: 8.0898e-05 - 1s/epoch - 1ms/step\n",
            "Epoch 15/50\n",
            "801/801 - 1s - loss: 8.3191e-05 - 1s/epoch - 1ms/step\n",
            "Epoch 16/50\n",
            "801/801 - 1s - loss: 8.4809e-05 - 1s/epoch - 1ms/step\n",
            "Epoch 17/50\n",
            "801/801 - 1s - loss: 8.0886e-05 - 1s/epoch - 1ms/step\n",
            "Epoch 18/50\n",
            "801/801 - 1s - loss: 8.0192e-05 - 1s/epoch - 1ms/step\n",
            "Epoch 19/50\n",
            "801/801 - 1s - loss: 8.1483e-05 - 1s/epoch - 1ms/step\n",
            "Epoch 20/50\n",
            "801/801 - 1s - loss: 8.1538e-05 - 1s/epoch - 1ms/step\n",
            "Epoch 21/50\n",
            "801/801 - 1s - loss: 7.8193e-05 - 1s/epoch - 1ms/step\n",
            "Epoch 22/50\n",
            "801/801 - 1s - loss: 8.0715e-05 - 1s/epoch - 2ms/step\n",
            "Epoch 23/50\n",
            "801/801 - 2s - loss: 8.1159e-05 - 2s/epoch - 3ms/step\n",
            "Epoch 24/50\n",
            "801/801 - 1s - loss: 8.0604e-05 - 1s/epoch - 2ms/step\n",
            "Epoch 25/50\n",
            "801/801 - 1s - loss: 7.5514e-05 - 1s/epoch - 1ms/step\n",
            "Epoch 26/50\n",
            "801/801 - 1s - loss: 7.7141e-05 - 1s/epoch - 1ms/step\n",
            "Epoch 27/50\n",
            "801/801 - 2s - loss: 7.7967e-05 - 2s/epoch - 2ms/step\n",
            "Epoch 28/50\n",
            "801/801 - 1s - loss: 7.5170e-05 - 1s/epoch - 1ms/step\n",
            "Epoch 29/50\n",
            "801/801 - 1s - loss: 7.8229e-05 - 1s/epoch - 1ms/step\n",
            "Epoch 30/50\n",
            "801/801 - 1s - loss: 7.6550e-05 - 1s/epoch - 1ms/step\n",
            "Epoch 31/50\n",
            "801/801 - 1s - loss: 7.4857e-05 - 1s/epoch - 1ms/step\n",
            "Epoch 32/50\n",
            "801/801 - 1s - loss: 7.5721e-05 - 1s/epoch - 1ms/step\n",
            "Epoch 33/50\n",
            "801/801 - 1s - loss: 7.6749e-05 - 1s/epoch - 1ms/step\n",
            "Epoch 34/50\n",
            "801/801 - 1s - loss: 7.6855e-05 - 1s/epoch - 1ms/step\n",
            "Epoch 35/50\n",
            "801/801 - 1s - loss: 7.4366e-05 - 1s/epoch - 1ms/step\n",
            "Epoch 36/50\n",
            "801/801 - 1s - loss: 7.3613e-05 - 1s/epoch - 1ms/step\n",
            "Epoch 37/50\n",
            "801/801 - 1s - loss: 8.1819e-05 - 1s/epoch - 1ms/step\n",
            "Epoch 38/50\n",
            "801/801 - 1s - loss: 8.2019e-05 - 1s/epoch - 1ms/step\n",
            "Epoch 39/50\n",
            "801/801 - 1s - loss: 7.9175e-05 - 1s/epoch - 1ms/step\n",
            "Epoch 40/50\n",
            "801/801 - 1s - loss: 7.4172e-05 - 1s/epoch - 2ms/step\n",
            "Epoch 41/50\n",
            "801/801 - 3s - loss: 7.6531e-05 - 3s/epoch - 3ms/step\n",
            "Epoch 42/50\n",
            "801/801 - 2s - loss: 7.4180e-05 - 2s/epoch - 3ms/step\n",
            "Epoch 43/50\n",
            "801/801 - 2s - loss: 7.3845e-05 - 2s/epoch - 2ms/step\n",
            "Epoch 44/50\n",
            "801/801 - 2s - loss: 7.1983e-05 - 2s/epoch - 2ms/step\n",
            "Epoch 45/50\n",
            "801/801 - 2s - loss: 7.2375e-05 - 2s/epoch - 3ms/step\n",
            "Epoch 46/50\n",
            "801/801 - 2s - loss: 7.3000e-05 - 2s/epoch - 3ms/step\n",
            "Epoch 47/50\n",
            "801/801 - 1s - loss: 7.1835e-05 - 1s/epoch - 1ms/step\n",
            "Epoch 48/50\n",
            "801/801 - 2s - loss: 7.3996e-05 - 2s/epoch - 2ms/step\n",
            "Epoch 49/50\n",
            "801/801 - 1s - loss: 7.2633e-05 - 1s/epoch - 2ms/step\n",
            "Epoch 50/50\n",
            "801/801 - 1s - loss: 7.2722e-05 - 1s/epoch - 2ms/step\n"
          ]
        },
        {
          "output_type": "execute_result",
          "data": {
            "text/plain": [
              "<keras.callbacks.History at 0x7fafea8a4950>"
            ]
          },
          "metadata": {},
          "execution_count": 11
        }
      ]
    },
    {
      "cell_type": "markdown",
      "source": [
        "### (4) Evaluate Metrics for Train"
      ],
      "metadata": {
        "id": "ewUlQYqffWun"
      }
    },
    {
      "cell_type": "code",
      "source": [
        "mse_train = model_dl.evaluate( trainF, trainL, verbose=0 )\n",
        "print('%f' % mse_train)"
      ],
      "metadata": {
        "colab": {
          "base_uri": "https://localhost:8080/"
        },
        "id": "ABFqTFP83AOb",
        "outputId": "7d846be6-9dc1-464c-eb5e-a8a851a85a12"
      },
      "execution_count": 13,
      "outputs": [
        {
          "output_type": "stream",
          "name": "stdout",
          "text": [
            "0.000073\n"
          ]
        }
      ]
    },
    {
      "cell_type": "markdown",
      "source": [
        "### (5) Evaluate Metrics for Test"
      ],
      "metadata": {
        "id": "weignUiFgESw"
      }
    },
    {
      "cell_type": "code",
      "source": [
        "mse_test = model_dl.evaluate( testF, testL, verbose=0 )\n",
        "print('%f' % mse_test)"
      ],
      "metadata": {
        "colab": {
          "base_uri": "https://localhost:8080/"
        },
        "id": "RMeH0TPp3drf",
        "outputId": "03eb9862-3364-4e4e-e862-ac5a2ad24778"
      },
      "execution_count": 14,
      "outputs": [
        {
          "output_type": "stream",
          "name": "stdout",
          "text": [
            "0.000060\n"
          ]
        }
      ]
    },
    {
      "cell_type": "markdown",
      "source": [
        "### (6) Predict Sample Data"
      ],
      "metadata": {
        "id": "BUKBUQ_MgGDw"
      }
    },
    {
      "cell_type": "code",
      "source": [
        "# Import sample data\n",
        "sample_house = pd.read_csv('./sample_house.csv')\n",
        "sample_house.head()"
      ],
      "metadata": {
        "id": "7g1rrgG-gH-y",
        "colab": {
          "base_uri": "https://localhost:8080/",
          "height": 191
        },
        "outputId": "c0f29f93-5ecb-4843-ace0-02510545bbd3"
      },
      "execution_count": 15,
      "outputs": [
        {
          "output_type": "execute_result",
          "data": {
            "text/plain": [
              "   year_built  stories  num_bedrooms  full_bathrooms  half_bathrooms  \\\n",
              "0    0.763636     0.25      0.129032           0.125               1   \n",
              "\n",
              "   livable_sqft  total_sqft  garage_sqft  carport_sqft  has_fireplace  ...  \\\n",
              "0      0.136353    0.120047     0.061524             0              1  ...   \n",
              "\n",
              "   city_South Anthony  city_South Stevenfurt  city_Toddshire  city_Wendybury  \\\n",
              "0                   0                      0               0               0   \n",
              "\n",
              "   city_West Ann  city_West Brittanyview  city_West Gerald  \\\n",
              "0              0                       0                 0   \n",
              "\n",
              "   city_West Gregoryview  city_West Lydia  city_West Terrence  \n",
              "0                      0                0                   0  \n",
              "\n",
              "[1 rows x 63 columns]"
            ],
            "text/html": [
              "\n",
              "  <div id=\"df-c758edde-76ae-44ea-a0dd-af24a5a797e8\">\n",
              "    <div class=\"colab-df-container\">\n",
              "      <div>\n",
              "<style scoped>\n",
              "    .dataframe tbody tr th:only-of-type {\n",
              "        vertical-align: middle;\n",
              "    }\n",
              "\n",
              "    .dataframe tbody tr th {\n",
              "        vertical-align: top;\n",
              "    }\n",
              "\n",
              "    .dataframe thead th {\n",
              "        text-align: right;\n",
              "    }\n",
              "</style>\n",
              "<table border=\"1\" class=\"dataframe\">\n",
              "  <thead>\n",
              "    <tr style=\"text-align: right;\">\n",
              "      <th></th>\n",
              "      <th>year_built</th>\n",
              "      <th>stories</th>\n",
              "      <th>num_bedrooms</th>\n",
              "      <th>full_bathrooms</th>\n",
              "      <th>half_bathrooms</th>\n",
              "      <th>livable_sqft</th>\n",
              "      <th>total_sqft</th>\n",
              "      <th>garage_sqft</th>\n",
              "      <th>carport_sqft</th>\n",
              "      <th>has_fireplace</th>\n",
              "      <th>...</th>\n",
              "      <th>city_South Anthony</th>\n",
              "      <th>city_South Stevenfurt</th>\n",
              "      <th>city_Toddshire</th>\n",
              "      <th>city_Wendybury</th>\n",
              "      <th>city_West Ann</th>\n",
              "      <th>city_West Brittanyview</th>\n",
              "      <th>city_West Gerald</th>\n",
              "      <th>city_West Gregoryview</th>\n",
              "      <th>city_West Lydia</th>\n",
              "      <th>city_West Terrence</th>\n",
              "    </tr>\n",
              "  </thead>\n",
              "  <tbody>\n",
              "    <tr>\n",
              "      <th>0</th>\n",
              "      <td>0.763636</td>\n",
              "      <td>0.25</td>\n",
              "      <td>0.129032</td>\n",
              "      <td>0.125</td>\n",
              "      <td>1</td>\n",
              "      <td>0.136353</td>\n",
              "      <td>0.120047</td>\n",
              "      <td>0.061524</td>\n",
              "      <td>0</td>\n",
              "      <td>1</td>\n",
              "      <td>...</td>\n",
              "      <td>0</td>\n",
              "      <td>0</td>\n",
              "      <td>0</td>\n",
              "      <td>0</td>\n",
              "      <td>0</td>\n",
              "      <td>0</td>\n",
              "      <td>0</td>\n",
              "      <td>0</td>\n",
              "      <td>0</td>\n",
              "      <td>0</td>\n",
              "    </tr>\n",
              "  </tbody>\n",
              "</table>\n",
              "<p>1 rows × 63 columns</p>\n",
              "</div>\n",
              "      <button class=\"colab-df-convert\" onclick=\"convertToInteractive('df-c758edde-76ae-44ea-a0dd-af24a5a797e8')\"\n",
              "              title=\"Convert this dataframe to an interactive table.\"\n",
              "              style=\"display:none;\">\n",
              "        \n",
              "  <svg xmlns=\"http://www.w3.org/2000/svg\" height=\"24px\"viewBox=\"0 0 24 24\"\n",
              "       width=\"24px\">\n",
              "    <path d=\"M0 0h24v24H0V0z\" fill=\"none\"/>\n",
              "    <path d=\"M18.56 5.44l.94 2.06.94-2.06 2.06-.94-2.06-.94-.94-2.06-.94 2.06-2.06.94zm-11 1L8.5 8.5l.94-2.06 2.06-.94-2.06-.94L8.5 2.5l-.94 2.06-2.06.94zm10 10l.94 2.06.94-2.06 2.06-.94-2.06-.94-.94-2.06-.94 2.06-2.06.94z\"/><path d=\"M17.41 7.96l-1.37-1.37c-.4-.4-.92-.59-1.43-.59-.52 0-1.04.2-1.43.59L10.3 9.45l-7.72 7.72c-.78.78-.78 2.05 0 2.83L4 21.41c.39.39.9.59 1.41.59.51 0 1.02-.2 1.41-.59l7.78-7.78 2.81-2.81c.8-.78.8-2.07 0-2.86zM5.41 20L4 18.59l7.72-7.72 1.47 1.35L5.41 20z\"/>\n",
              "  </svg>\n",
              "      </button>\n",
              "      \n",
              "  <style>\n",
              "    .colab-df-container {\n",
              "      display:flex;\n",
              "      flex-wrap:wrap;\n",
              "      gap: 12px;\n",
              "    }\n",
              "\n",
              "    .colab-df-convert {\n",
              "      background-color: #E8F0FE;\n",
              "      border: none;\n",
              "      border-radius: 50%;\n",
              "      cursor: pointer;\n",
              "      display: none;\n",
              "      fill: #1967D2;\n",
              "      height: 32px;\n",
              "      padding: 0 0 0 0;\n",
              "      width: 32px;\n",
              "    }\n",
              "\n",
              "    .colab-df-convert:hover {\n",
              "      background-color: #E2EBFA;\n",
              "      box-shadow: 0px 1px 2px rgba(60, 64, 67, 0.3), 0px 1px 3px 1px rgba(60, 64, 67, 0.15);\n",
              "      fill: #174EA6;\n",
              "    }\n",
              "\n",
              "    [theme=dark] .colab-df-convert {\n",
              "      background-color: #3B4455;\n",
              "      fill: #D2E3FC;\n",
              "    }\n",
              "\n",
              "    [theme=dark] .colab-df-convert:hover {\n",
              "      background-color: #434B5C;\n",
              "      box-shadow: 0px 1px 3px 1px rgba(0, 0, 0, 0.15);\n",
              "      filter: drop-shadow(0px 1px 2px rgba(0, 0, 0, 0.3));\n",
              "      fill: #FFFFFF;\n",
              "    }\n",
              "  </style>\n",
              "\n",
              "      <script>\n",
              "        const buttonEl =\n",
              "          document.querySelector('#df-c758edde-76ae-44ea-a0dd-af24a5a797e8 button.colab-df-convert');\n",
              "        buttonEl.style.display =\n",
              "          google.colab.kernel.accessAllowed ? 'block' : 'none';\n",
              "\n",
              "        async function convertToInteractive(key) {\n",
              "          const element = document.querySelector('#df-c758edde-76ae-44ea-a0dd-af24a5a797e8');\n",
              "          const dataTable =\n",
              "            await google.colab.kernel.invokeFunction('convertToInteractive',\n",
              "                                                     [key], {});\n",
              "          if (!dataTable) return;\n",
              "\n",
              "          const docLinkHtml = 'Like what you see? Visit the ' +\n",
              "            '<a target=\"_blank\" href=https://colab.research.google.com/notebooks/data_table.ipynb>data table notebook</a>'\n",
              "            + ' to learn more about interactive tables.';\n",
              "          element.innerHTML = '';\n",
              "          dataTable['output_type'] = 'display_data';\n",
              "          await google.colab.output.renderOutput(dataTable, element);\n",
              "          const docLink = document.createElement('div');\n",
              "          docLink.innerHTML = docLinkHtml;\n",
              "          element.appendChild(docLink);\n",
              "        }\n",
              "      </script>\n",
              "    </div>\n",
              "  </div>\n",
              "  "
            ]
          },
          "metadata": {},
          "execution_count": 15
        }
      ]
    },
    {
      "cell_type": "code",
      "source": [
        "# Predict labels for sample data\n",
        "predicted_sale_price = model_dl.predict(sample_house.values)\n",
        "predicted_sale_price"
      ],
      "metadata": {
        "id": "Vk3-3Su3gKu4",
        "colab": {
          "base_uri": "https://localhost:8080/"
        },
        "outputId": "42c54601-5316-4595-882a-ee73200c8352"
      },
      "execution_count": 16,
      "outputs": [
        {
          "output_type": "execute_result",
          "data": {
            "text/plain": [
              "array([[0.01573426]], dtype=float32)"
            ]
          },
          "metadata": {},
          "execution_count": 16
        }
      ]
    },
    {
      "cell_type": "code",
      "source": [
        "# Print the unscaled predicted sale price\n",
        "predicted_sale_price = predicted_sale_price[0][0] + 0.000030\n",
        "predicted_sale_price = predicted_sale_price/0.0000000475\n",
        "predicted_sale_price"
      ],
      "metadata": {
        "colab": {
          "base_uri": "https://localhost:8080/"
        },
        "id": "Qm72zzrg3_LQ",
        "outputId": "5b2ab220-8f60-444b-a4cf-ac9a29d605d9"
      },
      "execution_count": 17,
      "outputs": [
        {
          "output_type": "execute_result",
          "data": {
            "text/plain": [
              "331879.0592394377"
            ]
          },
          "metadata": {},
          "execution_count": 17
        }
      ]
    }
  ]
}