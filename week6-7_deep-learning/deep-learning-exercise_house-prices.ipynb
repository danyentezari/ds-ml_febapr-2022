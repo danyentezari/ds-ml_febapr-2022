{
  "nbformat": 4,
  "nbformat_minor": 0,
  "metadata": {
    "colab": {
      "name": "Deep Learning Exercise - House Prices.ipynb",
      "provenance": []
    },
    "kernelspec": {
      "name": "python3",
      "display_name": "Python 3"
    },
    "language_info": {
      "name": "python"
    }
  },
  "cells": [
    {
      "cell_type": "markdown",
      "source": [
        "# Deep Learning Exercise - House Prices"
      ],
      "metadata": {
        "id": "_NcDOOQheukF"
      }
    },
    {
      "cell_type": "markdown",
      "source": [
        "### (1) Import data and libraries"
      ],
      "metadata": {
        "id": "9FFyjlKye9VJ"
      }
    },
    {
      "cell_type": "code",
      "execution_count": null,
      "metadata": {
        "id": "M-0AOruQeqQ-"
      },
      "outputs": [],
      "source": [
        "# Import pandas, keras, and train_test_split from sklearn\n"
      ]
    },
    {
      "cell_type": "code",
      "source": [
        "# Import the data"
      ],
      "metadata": {
        "id": "ghHusn5De4gd"
      },
      "execution_count": null,
      "outputs": []
    },
    {
      "cell_type": "code",
      "source": [
        "# Preview the data (with .head())"
      ],
      "metadata": {
        "id": "BJX_dLnpe5wF"
      },
      "execution_count": null,
      "outputs": []
    },
    {
      "cell_type": "markdown",
      "source": [
        "### (2) Train/Test Split with Sklearn"
      ],
      "metadata": {
        "id": "SiviWsQAfBOm"
      }
    },
    {
      "cell_type": "code",
      "source": [
        "# Use train_test here\n",
        "# Note:\n",
        "# No need for the validation data. Use train_test_split() only once."
      ],
      "metadata": {
        "id": "ZFrikv4BfFDg"
      },
      "execution_count": null,
      "outputs": []
    },
    {
      "cell_type": "markdown",
      "source": [
        "### (3) Build the Neural Network"
      ],
      "metadata": {
        "id": "equdAxOkfOQ_"
      }
    },
    {
      "cell_type": "code",
      "source": [
        "# Use Sequential here..."
      ],
      "metadata": {
        "id": "NUCCu8-IfQOP"
      },
      "execution_count": null,
      "outputs": []
    },
    {
      "cell_type": "markdown",
      "source": [
        "### (4) Evaluate Metrics for Train"
      ],
      "metadata": {
        "id": "ewUlQYqffWun"
      }
    },
    {
      "cell_type": "markdown",
      "source": [
        "### (5) Evaluate Metrics for Test"
      ],
      "metadata": {
        "id": "weignUiFgESw"
      }
    },
    {
      "cell_type": "markdown",
      "source": [
        "### (6) Predict Sample Data"
      ],
      "metadata": {
        "id": "BUKBUQ_MgGDw"
      }
    },
    {
      "cell_type": "code",
      "source": [
        "# Import sample data"
      ],
      "metadata": {
        "id": "7g1rrgG-gH-y"
      },
      "execution_count": 2,
      "outputs": []
    },
    {
      "cell_type": "code",
      "source": [
        "# Predict labels for sample data"
      ],
      "metadata": {
        "id": "Vk3-3Su3gKu4"
      },
      "execution_count": null,
      "outputs": []
    }
  ]
}