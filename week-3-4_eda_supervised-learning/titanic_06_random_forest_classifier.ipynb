{
  "cells": [
    {
      "cell_type": "markdown",
      "metadata": {
        "id": "sikx2c-6bJrF"
      },
      "source": [
        "# Titanic: Random Forest Classifier"
      ]
    },
    {
      "cell_type": "markdown",
      "metadata": {
        "id": "uBftusg3crAM"
      },
      "source": [
        "### 1 - Import the libraries and data files"
      ]
    },
    {
      "cell_type": "code",
      "execution_count": 29,
      "metadata": {
        "id": "p1-W-JgUbGBn"
      },
      "outputs": [],
      "source": [
        "import pandas as pd\n",
        "\n",
        "# Import the class of the machine learning model\n",
        "from sklearn.ensemble import RandomForestClassifier\n",
        "\n",
        "# Import GridSearchCV for finding the optimal hyperparamters \n",
        "# (i.e, configuration of model)\n",
        "from sklearn.model_selection import GridSearchCV\n",
        "\n",
        "# Import metrics for measuring performance of the model\n",
        "from sklearn.metrics import accuracy_score, precision_score, recall_score"
      ]
    },
    {
      "cell_type": "code",
      "execution_count": 30,
      "metadata": {
        "id": "ml62cbsULsCn"
      },
      "outputs": [],
      "source": [
        "trainF = pd.read_csv('./train_features.csv')\n",
        "trainL = pd.read_csv('./train_labels.csv')\n",
        "\n",
        "valF = pd.read_csv('./val_features.csv')\n",
        "valL = pd.read_csv('./val_labels.csv')\n",
        "\n",
        "testF = pd.read_csv('./test_features.csv')\n",
        "testL = pd.read_csv('./test_labels.csv')"
      ]
    },
    {
      "cell_type": "markdown",
      "metadata": {
        "id": "HxLRuXujcxmP"
      },
      "source": [
        "### 2 - Find and configure the best hyperparameters"
      ]
    },
    {
      "cell_type": "code",
      "execution_count": 31,
      "metadata": {
        "id": "nUBLIw5pMaBu"
      },
      "outputs": [],
      "source": [
        "# ::: Definitions :::\n",
        "\n",
        "# Parameters:\n",
        "# Parameters are the weights of features. This is what the model\n",
        "# has to find.\n",
        "\n",
        "# Hyperparamters:\n",
        "# Hyperparamters are the configurations for the model. This is what\n",
        "# the data scientists must determine."
      ]
    },
    {
      "cell_type": "code",
      "execution_count": 32,
      "metadata": {
        "id": "1d1XijBWNBHj"
      },
      "outputs": [],
      "source": [
        "def printResults(gridSearchResults):\n",
        "\n",
        "    print( 'Best ML Hyperparameters: {}\\n'.format(gridSearchResults.best_params_) )\n",
        "\n",
        "    means = gridSearchResults.cv_results_['mean_test_score']\n",
        "    stnDvs = gridSearchResults.cv_results_['std_test_score']\n",
        "\n",
        "    for mean, stnDvs, parameters in zip( means, stnDvs, gridSearchResults.cv_results_['params'] ):\n",
        "        print(\n",
        "            '{} (+/-{}) for {}'.format(\n",
        "                round(mean, 3),\n",
        "                round(stnDvs*2, 3),\n",
        "                parameters\n",
        "            ) \n",
        "        )\n",
        "\n"
      ]
    },
    {
      "cell_type": "code",
      "execution_count": 33,
      "metadata": {
        "colab": {
          "base_uri": "https://localhost:8080/"
        },
        "id": "M8Dqzgc6NIKD",
        "outputId": "f8d2262a-8140-4fbd-abc5-245e85ba41c6"
      },
      "outputs": [
        {
          "name": "stdout",
          "output_type": "stream",
          "text": [
            "Best ML Hyperparameters: {'max_depth': 10, 'n_estimators': 100}\n",
            "\n",
            "0.756 (+/-0.059) for {'max_depth': 2, 'n_estimators': 5}\n",
            "0.792 (+/-0.06) for {'max_depth': 2, 'n_estimators': 50}\n",
            "0.805 (+/-0.083) for {'max_depth': 2, 'n_estimators': 100}\n",
            "0.799 (+/-0.064) for {'max_depth': 10, 'n_estimators': 5}\n",
            "0.829 (+/-0.062) for {'max_depth': 10, 'n_estimators': 50}\n",
            "0.831 (+/-0.056) for {'max_depth': 10, 'n_estimators': 100}\n",
            "0.814 (+/-0.075) for {'max_depth': 20, 'n_estimators': 5}\n",
            "0.814 (+/-0.048) for {'max_depth': 20, 'n_estimators': 50}\n",
            "0.816 (+/-0.067) for {'max_depth': 20, 'n_estimators': 100}\n",
            "0.799 (+/-0.05) for {'max_depth': None, 'n_estimators': 5}\n",
            "0.812 (+/-0.067) for {'max_depth': None, 'n_estimators': 50}\n",
            "0.818 (+/-0.077) for {'max_depth': None, 'n_estimators': 100}\n"
          ]
        }
      ],
      "source": [
        "# Create instance of RandomForestClassifier model\n",
        "rf_model = RandomForestClassifier()\n",
        "\n",
        "hyperparameters_to_try = {\n",
        "    'n_estimators': [5, 50, 100], # n_estimators are number of decision trees\n",
        "    'max_depth': [2, 10, 20, None] # different heights of trees\n",
        "}\n",
        "\n",
        "\n",
        "# GridSearchCV\n",
        "# Will search for models with best parameters and their\n",
        "# corresonding hyperparameters\n",
        "gridSearch = GridSearchCV(rf_model, hyperparameters_to_try, cv=5, verbose=0)\n",
        "\n",
        "# .fit() will make model learn witht training features and labels \n",
        "gridSearch.fit( trainF, trainL.values.ravel() )\n",
        "\n",
        "# Print the results with clear formatting\n",
        "printResults( gridSearch )"
      ]
    },
    {
      "cell_type": "markdown",
      "metadata": {
        "id": "e8WJO0Ujc7sH"
      },
      "source": [
        "### 3 - Comparison of top 3 models"
      ]
    },
    {
      "cell_type": "code",
      "execution_count": 34,
      "metadata": {},
      "outputs": [
        {
          "data": {
            "text/plain": [
              "RandomForestClassifier(n_estimators=50)"
            ]
          },
          "execution_count": 34,
          "metadata": {},
          "output_type": "execute_result"
        }
      ],
      "source": [
        "# 0.829 (+/-0.073) for {'max_depth': 20, 'n_estimators': 100}\n",
        "# 0.824 (+/-0.081) for {'max_depth': 10, 'n_estimators': 100}\n",
        "# 0.822 (+/-0.055) for {'max_depth': None, 'n_estimators': 50}\n",
        "\n",
        "rf_model1  = RandomForestClassifier(n_estimators=100, max_depth=20)\n",
        "rf_model1.fit( trainF, trainL.values.ravel() )\n",
        "\n",
        "\n",
        "rf_model2  = RandomForestClassifier(n_estimators=100, max_depth=10)\n",
        "rf_model2.fit( trainF, trainL.values.ravel() )\n",
        "\n",
        "\n",
        "rf_model3  = RandomForestClassifier(n_estimators=50, max_depth=None)\n",
        "rf_model3.fit( trainF, trainL.values.ravel() )"
      ]
    },
    {
      "cell_type": "code",
      "execution_count": 35,
      "metadata": {},
      "outputs": [
        {
          "name": "stdout",
          "output_type": "stream",
          "text": [
            "Max depth: 20 and Estimators: 100\n",
            "Accuracy: 0.803, Precision: 0.811, Recall: 0.632\n",
            "-------------------------------------------------\n",
            "Max depth: 10 and Estimators: 100\n",
            "Accuracy: 0.798, Precision: 0.82, Recall: 0.603\n",
            "-------------------------------------------------\n",
            "Max depth: None and Estimators: 50\n",
            "Accuracy: 0.809, Precision: 0.815, Recall: 0.647\n",
            "-------------------------------------------------\n"
          ]
        }
      ],
      "source": [
        "# Iterate over the top 3 models and have each predict the label.\n",
        "# Then, compare the metrics for each model to find best of 3.\n",
        "\n",
        "for rf_ml in [rf_model1, rf_model2, rf_model3]:\n",
        "\n",
        "    predictedLabels = rf_ml.predict(valF)\n",
        "\n",
        "    # Find the metrics for the model: (a) accuracy, (b) precision, and (c) recall\n",
        "    accuracy = round(accuracy_score(valL, predictedLabels), 3)\n",
        "    precision = round(precision_score(valL, predictedLabels), 3)\n",
        "    recall = round(recall_score(valL, predictedLabels), 3)\n",
        "\n",
        "    # Print the metrics for each model\n",
        "    print(\n",
        "        'Max depth: {} and Estimators: {}'.format(rf_ml.max_depth, rf_ml.n_estimators)\n",
        "    )\n",
        "    print(\n",
        "        'Accuracy: {}, Precision: {}, Recall: {}'.format( accuracy, precision, recall )\n",
        "    )\n",
        "    print('-------------------------------------------------')"
      ]
    },
    {
      "cell_type": "code",
      "execution_count": 38,
      "metadata": {},
      "outputs": [
        {
          "name": "stdout",
          "output_type": "stream",
          "text": [
            "Max depth: None and Estimators: 50\n",
            "Accuracy: 0.831, Precision: 0.875, Recall: 0.681\n",
            "-------------------------------------------------\n"
          ]
        }
      ],
      "source": [
        "# Metrics for test data\n",
        "predictedLabels_test = rf_model2.predict(testF)\n",
        "\n",
        "# Find the metrics for the model: (a) accuracy, (b) precision, and (c) recall\n",
        "accuracy = round(accuracy_score(testL, predictedLabels_test), 3)\n",
        "precision = round(precision_score(testL, predictedLabels_test), 3)\n",
        "recall = round(recall_score(testL, predictedLabels_test), 3)\n",
        "\n",
        "\n",
        "# Print the metrics for each model\n",
        "print(\n",
        "    'Max depth: {} and Estimators: {}'.format(rf_ml.max_depth, rf_ml.n_estimators)\n",
        ")\n",
        "print(\n",
        "    'Accuracy: {}, Precision: {}, Recall: {}'.format( accuracy, precision, recall )\n",
        ")\n",
        "print('-------------------------------------------------')"
      ]
    },
    {
      "cell_type": "code",
      "execution_count": null,
      "metadata": {},
      "outputs": [
        {
          "data": {
            "text/plain": [
              "<BarContainer object of 8 artists>"
            ]
          },
          "execution_count": 19,
          "metadata": {},
          "output_type": "execute_result"
        },
        {
          "data": {
            "image/png": "[encoded data removed]",
            "text/plain": [
              "<Figure size 432x288 with 1 Axes>"
            ]
          },
          "metadata": {
            "needs_background": "light"
          },
          "output_type": "display_data"
        }
      ],
      "source": [
        "import matplotlib.pyplot as plt\n",
        "plt.barh(trainF.columns, rf_model3.feature_importances_)"
      ]
    },
    {
      "cell_type": "code",
      "execution_count": null,
      "metadata": {},
      "outputs": [],
      "source": []
    },
    {
      "cell_type": "markdown",
      "metadata": {
        "id": "wGqwTLhfduMO"
      },
      "source": [
        "### 4 - Predict future passegners"
      ]
    },
    {
      "cell_type": "code",
      "execution_count": null,
      "metadata": {},
      "outputs": [
        {
          "data": {
            "text/html": [
              "<div>\n",
              "<style scoped>\n",
              "    .dataframe tbody tr th:only-of-type {\n",
              "        vertical-align: middle;\n",
              "    }\n",
              "\n",
              "    .dataframe tbody tr th {\n",
              "        vertical-align: top;\n",
              "    }\n",
              "\n",
              "    .dataframe thead th {\n",
              "        text-align: right;\n",
              "    }\n",
              "</style>\n",
              "<table border=\"1\" class=\"dataframe\">\n",
              "  <thead>\n",
              "    <tr style=\"text-align: right;\">\n",
              "      <th></th>\n",
              "      <th>Pclass</th>\n",
              "      <th>Name</th>\n",
              "      <th>Sex</th>\n",
              "      <th>Age</th>\n",
              "      <th>SibSp</th>\n",
              "      <th>Parch</th>\n",
              "      <th>Fare</th>\n",
              "      <th>cabin_ind</th>\n",
              "      <th>Embarked</th>\n",
              "    </tr>\n",
              "  </thead>\n",
              "  <tbody>\n",
              "    <tr>\n",
              "      <th>0</th>\n",
              "      <td>1</td>\n",
              "      <td>Rose</td>\n",
              "      <td>1</td>\n",
              "      <td>17</td>\n",
              "      <td>0</td>\n",
              "      <td>2</td>\n",
              "      <td>50</td>\n",
              "      <td>1</td>\n",
              "      <td>2</td>\n",
              "    </tr>\n",
              "    <tr>\n",
              "      <th>1</th>\n",
              "      <td>3</td>\n",
              "      <td>Jack</td>\n",
              "      <td>0</td>\n",
              "      <td>20</td>\n",
              "      <td>0</td>\n",
              "      <td>0</td>\n",
              "      <td>0</td>\n",
              "      <td>0</td>\n",
              "      <td>2</td>\n",
              "    </tr>\n",
              "  </tbody>\n",
              "</table>\n",
              "</div>"
            ],
            "text/plain": [
              "   Pclass  Name  Sex  Age  SibSp  Parch  Fare  cabin_ind  Embarked\n",
              "0       1  Rose    1   17      0      2    50          1         2\n",
              "1       3  Jack    0   20      0      0     0          0         2"
            ]
          },
          "execution_count": 20,
          "metadata": {},
          "output_type": "execute_result"
        }
      ],
      "source": [
        "sample_passengers = {\n",
        "    'Pclass': [1, 3],\n",
        "    'Name': ['Rose','Jack'],\n",
        "    'Sex': [1, 0],\n",
        "    'Age': [17, 20],\n",
        "    'SibSp': [0,0],\n",
        "    'Parch': [2, 0],\n",
        "    'Fare': [50, 0],\n",
        "    'cabin_ind': [1, 0],\n",
        "    'Embarked': [2,2]\n",
        "}\n",
        "\n",
        "sample_passengers_df = pd.DataFrame(data=sample_passengers)\n",
        "sample_passengers_df.head()"
      ]
    },
    {
      "cell_type": "code",
      "execution_count": null,
      "metadata": {},
      "outputs": [
        {
          "data": {
            "text/html": [
              "<div>\n",
              "<style scoped>\n",
              "    .dataframe tbody tr th:only-of-type {\n",
              "        vertical-align: middle;\n",
              "    }\n",
              "\n",
              "    .dataframe tbody tr th {\n",
              "        vertical-align: top;\n",
              "    }\n",
              "\n",
              "    .dataframe thead th {\n",
              "        text-align: right;\n",
              "    }\n",
              "</style>\n",
              "<table border=\"1\" class=\"dataframe\">\n",
              "  <thead>\n",
              "    <tr style=\"text-align: right;\">\n",
              "      <th></th>\n",
              "      <th>Pclass</th>\n",
              "      <th>Sex</th>\n",
              "      <th>Age</th>\n",
              "      <th>SibSp</th>\n",
              "      <th>Parch</th>\n",
              "      <th>Fare</th>\n",
              "      <th>cabin_ind</th>\n",
              "      <th>Embarked</th>\n",
              "      <th>Survived</th>\n",
              "    </tr>\n",
              "  </thead>\n",
              "  <tbody>\n",
              "    <tr>\n",
              "      <th>0</th>\n",
              "      <td>1</td>\n",
              "      <td>1</td>\n",
              "      <td>17</td>\n",
              "      <td>0</td>\n",
              "      <td>2</td>\n",
              "      <td>50</td>\n",
              "      <td>1</td>\n",
              "      <td>2</td>\n",
              "      <td>1</td>\n",
              "    </tr>\n",
              "    <tr>\n",
              "      <th>1</th>\n",
              "      <td>3</td>\n",
              "      <td>0</td>\n",
              "      <td>20</td>\n",
              "      <td>0</td>\n",
              "      <td>0</td>\n",
              "      <td>0</td>\n",
              "      <td>0</td>\n",
              "      <td>2</td>\n",
              "      <td>0</td>\n",
              "    </tr>\n",
              "  </tbody>\n",
              "</table>\n",
              "</div>"
            ],
            "text/plain": [
              "   Pclass  Sex  Age  SibSp  Parch  Fare  cabin_ind  Embarked  Survived\n",
              "0       1    1   17      0      2    50          1         2         1\n",
              "1       3    0   20      0      0     0          0         2         0"
            ]
          },
          "execution_count": 21,
          "metadata": {},
          "output_type": "execute_result"
        }
      ],
      "source": [
        "sample_passengers_df.drop('Name', axis=1, inplace=True)\n",
        "\n",
        "survived_predicted = rf_model2.predict(sample_passengers_df)\n",
        "\n",
        "sample_passengers_df['Survived'] = survived_predicted\n",
        "\n",
        "sample_passengers_df.head()"
      ]
    },
    {
      "cell_type": "markdown",
      "metadata": {},
      "source": [
        "### Saving the Model"
      ]
    },
    {
      "cell_type": "code",
      "execution_count": null,
      "metadata": {},
      "outputs": [
        {
          "name": "stdout",
          "output_type": "stream",
          "text": [
            "Defaulting to user installation because normal site-packages is not writeable\n",
            "\u001b[31mERROR: Could not find a version that satisfies the requirement pickle (from versions: none)\u001b[0m\n",
            "\u001b[31mERROR: No matching distribution found for pickle\u001b[0m\n",
            "\u001b[33mWARNING: You are using pip version 20.2.3; however, version 22.0.4 is available.\n",
            "You should consider upgrading via the '/usr/local/bin/python -m pip install --upgrade pip' command.\u001b[0m\n",
            "Note: you may need to restart the kernel to use updated packages.\n",
            "Defaulting to user installation because normal site-packages is not writeable\n",
            "Requirement already satisfied: joblib in /Users/workshop/Library/Python/3.9/lib/python/site-packages (1.0.1)\n",
            "\u001b[33mWARNING: You are using pip version 20.2.3; however, version 22.0.4 is available.\n",
            "You should consider upgrading via the '/usr/local/bin/python -m pip install --upgrade pip' command.\u001b[0m\n",
            "Note: you may need to restart the kernel to use updated packages.\n"
          ]
        }
      ],
      "source": [
        "%pip install pickle\n",
        "%pip install joblib"
      ]
    },
    {
      "cell_type": "code",
      "execution_count": null,
      "metadata": {},
      "outputs": [],
      "source": [
        "# Converts to binary\n",
        "import pickle\n",
        "\n",
        "# Saving and loading the model parameters\n",
        "from joblib import dump, load\n",
        "model_parameters = dump(rf_model2, './random_forest_classifier.joblib')"
      ]
    },
    {
      "cell_type": "markdown",
      "metadata": {},
      "source": [
        "### Loading the Model"
      ]
    },
    {
      "cell_type": "code",
      "execution_count": null,
      "metadata": {},
      "outputs": [],
      "source": [
        "rf_model_loaded = load('./random_forest_classifier.joblib')"
      ]
    },
    {
      "cell_type": "code",
      "execution_count": null,
      "metadata": {},
      "outputs": [
        {
          "name": "stdout",
          "output_type": "stream",
          "text": [
            "[0 0 1 0 1 1 0 0 0 1 1 0 0 0 1 0 1 0 0 0 0 1 1 0 0 1 0 0 0 1 0 1 1 0 0 1 0\n",
            " 0 0 0 1 0 1 1 0 0 1 1 1 0 0 0 0 1 0 1 1 1 1 1 0 0 1 0 0 0 0 0 0 1 0 1 0 0\n",
            " 0 0 0 1 1 0 0 1 0 0 1 0 0 0 0 1 1 1 0 0 0 0 0 1 1 0 1 0 0 0 0 0 1 0 0 1 0\n",
            " 0 1 1 0 0 0 0 1 0 1 1 0 0 0 0 1 0 0 1 0 0 1 0 1 1 1 0 0 0 0 0 0 0 1 1 0 0\n",
            " 0 1 0 1 0 1 1 0 1 0 0 1 1 0 0 0 0 1 0 1 0 1 0 1 1 1 1 0 1 0 0 0 0 0 0 1 1\n",
            " 0 0 1 0 0 1 0 0 1 1 1 0 1 1 1 0 0 0 0 1 0 0 1 1 0 0 1 0 0 1 1 0 1 0 0 0 1\n",
            " 0 0 0 0 1 0 1 0 0 0 1 0 0 1 0 1 0 0 0 0 0 0 1 1 1 0 0 0 0 0 0 0 1 1 1 0 0\n",
            " 0 1 1 0 0 0 0 0 0 1 0 0 0 0 0 0 0 0 1 1 0 0 0 0 0 0 0 1 0 0 0 0 1 1 1 1 0\n",
            " 0 0 0 0 1 0 0 0 1 0 0 0 1 0 0 0 0 0 0 1 0 1 0 0 0 1 1 0 1 0 0 0 1 0 0 1 0\n",
            " 0 1 0 1 0 0 0 0 0 0 0 0 0 0 1 1 0 0 0 0 0 0 1 0 0 0 1 0 0 1 1 0 1 1 1 1 0\n",
            " 0 0 0 1 1 0 0 0 0 1 1 1 0 0 1 1 0 0 0 0 0 0 1 0 0 1 0 1 1 0 0 1 0 0 0 1 0\n",
            " 0 0 1 1 0 1 1 0 0 0 1 0 0 0 0 1 0 0 0 0 1 1 0 0 0 0 0 0 0 0 1 0 0 1 1 0 0\n",
            " 0 1 1 0 0 1 0 0 1 0 0 0 0 1 1 1 1 0 0 0 1 0 0 1 0 0 0 0 1 1 1 0 0 0 0 0 0\n",
            " 0 1 1 1 0 0 0 0 1 1 1 0 0 1 0 0 1 0 0 0 0 1 1 0 0 0 0 0 0 0 0 1 0 0 0 1 1\n",
            " 0 1 0 0 0 1 0 0 1 0 0 0 0 0 0]\n"
          ]
        }
      ],
      "source": [
        "predictions = rf_model_loaded.predict(trainF)\n",
        "\n",
        "print(predictions)"
      ]
    },
    {
      "cell_type": "code",
      "execution_count": null,
      "metadata": {},
      "outputs": [],
      "source": []
    }
  ],
  "metadata": {
    "colab": {
      "collapsed_sections": [],
      "name": "titanic-06_random-forest-classifier.ipynb",
      "provenance": []
    },
    "kernelspec": {
      "display_name": "Python 3",
      "name": "python3"
    },
    "language_info": {
      "codemirror_mode": {
        "name": "ipython",
        "version": 3
      },
      "file_extension": ".py",
      "mimetype": "text/x-python",
      "name": "python",
      "nbconvert_exporter": "python",
      "pygments_lexer": "ipython3",
      "version": "3.9.4"
    }
  },
  "nbformat": 4,
  "nbformat_minor": 0
}
