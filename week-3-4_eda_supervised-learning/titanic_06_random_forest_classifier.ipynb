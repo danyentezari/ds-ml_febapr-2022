{
  "nbformat": 4,
  "nbformat_minor": 0,
  "metadata": {
    "colab": {
      "name": "titanic-06_random-forest-classifier.ipynb",
      "provenance": [],
      "collapsed_sections": []
    },
    "kernelspec": {
      "name": "python3",
      "display_name": "Python 3"
    },
    "language_info": {
      "name": "python"
    }
  },
  "cells": [
    {
      "cell_type": "markdown",
      "source": [
        "# Titanic: Random Forest Classifier"
      ],
      "metadata": {
        "id": "sikx2c-6bJrF"
      }
    },
    {
      "cell_type": "markdown",
      "source": [
        "### 1 - Import the libraries and data files"
      ],
      "metadata": {
        "id": "uBftusg3crAM"
      }
    },
    {
      "cell_type": "code",
      "execution_count": null,
      "metadata": {
        "id": "p1-W-JgUbGBn"
      },
      "outputs": [],
      "source": [
        "import pandas as pd\n",
        "\n",
        "# Import the class of the machine learning model\n",
        "from sklearn.ensemble import RandomForestClassifier\n",
        "\n",
        "# Import GridSearchCV for finding the optimal hyperparamters \n",
        "# (i.e, configuration of model)\n",
        "from sklearn.model_selection import GridSearchCV\n",
        "\n",
        "# Import metrics for measuring performance of the model\n",
        "from sklearn.metrics import accuracy_score, precision_score, recall_score"
      ]
    },
    {
      "cell_type": "code",
      "source": [
        "trainF = pd.read_csv('./train_features.csv')\n",
        "trainL = pd.read_csv('./train_labels.csv')\n",
        "\n",
        "valF = pd.read_csv('./val_features.csv')\n",
        "valL = pd.read_csv('./val_labels.csv')\n",
        "\n",
        "testF = pd.read_csv('./test_features.csv')\n",
        "testL = pd.read_csv('./test_labels.csv')"
      ],
      "metadata": {
        "id": "ml62cbsULsCn"
      },
      "execution_count": null,
      "outputs": []
    },
    {
      "cell_type": "markdown",
      "source": [
        "### 2 - Find and configure the best hyperparameters"
      ],
      "metadata": {
        "id": "HxLRuXujcxmP"
      }
    },
    {
      "cell_type": "code",
      "source": [
        "# ::: Definitions :::\n",
        "\n",
        "# Parameters:\n",
        "# Parameters are the weights of features. This is what the model\n",
        "# has to find.\n",
        "\n",
        "# Hyperparamters:\n",
        "# Hyperparamters are the configurations for the model. This is what\n",
        "# the data scientists must determine."
      ],
      "metadata": {
        "id": "nUBLIw5pMaBu"
      },
      "execution_count": null,
      "outputs": []
    },
    {
      "cell_type": "code",
      "source": [
        "def printResults(gridSearchResults):\n",
        "\n",
        "    print( 'Best ML Hyperparameters: {}\\n'.format(gridSearchResults.best_params_) )\n",
        "\n",
        "    means = gridSearchResults.cv_results_['mean_test_score']\n",
        "    stnDvs = gridSearchResults.cv_results_['std_test_score']\n",
        "\n",
        "    for mean, stnDvs, parameters in zip( means, stnDvs, gridSearchResults.cv_results_['params'] ):\n",
        "        print(\n",
        "            '{} (+/-{}) for {}'.format(\n",
        "                round(mean, 3),\n",
        "                round(stnDvs*2, 3),\n",
        "                parameters\n",
        "            ) \n",
        "        )\n",
        "\n"
      ],
      "metadata": {
        "id": "1d1XijBWNBHj"
      },
      "execution_count": null,
      "outputs": []
    },
    {
      "cell_type": "code",
      "source": [
        "# Create instance of RandomForestClassifier model\n",
        "rf_model = RandomForestClassifier()\n",
        "\n",
        "hyperparameters_to_try = {\n",
        "    'n_estimators': [5, 50, 100], # n_estimators are number of decision trees\n",
        "    'max_depth': [2, 10, 20, None] # different heights of trees\n",
        "}\n",
        "\n",
        "\n",
        "# GridSearchCV\n",
        "# Will search for models with best parameters and their\n",
        "# corresonding hyperparameters\n",
        "gridSearch = GridSearchCV(rf_model, hyperparameters_to_try, cv=5, verbose=0)\n",
        "\n",
        "# .fit() will make model learn witht training features and labels \n",
        "gridSearch.fit( trainF, trainL.values.ravel() )\n",
        "\n",
        "# Print the results with clear formatting\n",
        "printResults( gridSearch )"
      ],
      "metadata": {
        "colab": {
          "base_uri": "https://localhost:8080/"
        },
        "id": "M8Dqzgc6NIKD",
        "outputId": "f8d2262a-8140-4fbd-abc5-245e85ba41c6"
      },
      "execution_count": null,
      "outputs": [
        {
          "output_type": "stream",
          "name": "stdout",
          "text": [
            "Best ML Hyperparameters: {'max_depth': 20, 'n_estimators': 100}\n",
            "\n",
            "0.782 (+/-0.105) for {'max_depth': 2, 'n_estimators': 5}\n",
            "0.805 (+/-0.099) for {'max_depth': 2, 'n_estimators': 50}\n",
            "0.788 (+/-0.069) for {'max_depth': 2, 'n_estimators': 100}\n",
            "0.805 (+/-0.083) for {'max_depth': 10, 'n_estimators': 5}\n",
            "0.831 (+/-0.048) for {'max_depth': 10, 'n_estimators': 50}\n",
            "0.831 (+/-0.059) for {'max_depth': 10, 'n_estimators': 100}\n",
            "0.807 (+/-0.07) for {'max_depth': 20, 'n_estimators': 5}\n",
            "0.816 (+/-0.076) for {'max_depth': 20, 'n_estimators': 50}\n",
            "0.833 (+/-0.073) for {'max_depth': 20, 'n_estimators': 100}\n",
            "0.784 (+/-0.05) for {'max_depth': None, 'n_estimators': 5}\n",
            "0.812 (+/-0.067) for {'max_depth': None, 'n_estimators': 50}\n",
            "0.824 (+/-0.085) for {'max_depth': None, 'n_estimators': 100}\n"
          ]
        }
      ]
    },
    {
      "cell_type": "code",
      "source": [
        ""
      ],
      "metadata": {
        "id": "h3e6xLEyTX2x"
      },
      "execution_count": null,
      "outputs": []
    },
    {
      "cell_type": "markdown",
      "source": [
        "### 3 - Comparison of top 3 models"
      ],
      "metadata": {
        "id": "e8WJO0Ujc7sH"
      }
    },
    {
      "cell_type": "markdown",
      "source": [
        "### 4 - Predict future passegners"
      ],
      "metadata": {
        "id": "wGqwTLhfduMO"
      }
    }
  ]
}