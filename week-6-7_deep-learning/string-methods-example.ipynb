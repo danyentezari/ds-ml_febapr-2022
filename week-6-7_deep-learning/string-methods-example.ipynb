{
 "cells": [
  {
   "cell_type": "markdown",
   "metadata": {},
   "source": [
    "# Examples with String Methods"
   ]
  },
  {
   "cell_type": "code",
   "execution_count": 57,
   "metadata": {},
   "outputs": [],
   "source": [
    "# Python String Methods\n",
    "# https://www.w3schools.com/python/python_ref_string.asp\n",
    "\n",
    "# Pandas Series Methods\n",
    "# https://pandas.pydata.org/docs/reference/series.html"
   ]
  },
  {
   "cell_type": "code",
   "execution_count": 58,
   "metadata": {},
   "outputs": [],
   "source": [
    "import pandas as pd"
   ]
  },
  {
   "cell_type": "markdown",
   "metadata": {},
   "source": [
    "### Creating DataFrame from Dictionary"
   ]
  },
  {
   "cell_type": "code",
   "execution_count": 59,
   "metadata": {},
   "outputs": [],
   "source": [
    "brands = [\n",
    "    'nokia',\n",
    "    'sony',\n",
    "    'tesla',\n",
    "    'toyota',\n",
    "    'nissan'\n",
    "]"
   ]
  },
  {
   "cell_type": "code",
   "execution_count": 60,
   "metadata": {},
   "outputs": [],
   "source": [
    "df_dict = {\n",
    "    'brands': [ 'nokia', 'sony', 'tesla', 'toyota', 'nissan'],\n",
    "    'origin': [ 'Finland', 'Japan', 'US', 'Japan', 'Japan' ],\n",
    "    'business_type': ['telecom', 'electronics', 'automotive', 'automotive', 'automotive']\n",
    "}\n",
    "\n",
    "sample_df = pd.DataFrame(data=df_dict)"
   ]
  },
  {
   "cell_type": "code",
   "execution_count": 61,
   "metadata": {},
   "outputs": [],
   "source": [
    "def capitalization(s):\n",
    "    return s.capitalize()\n",
    "\n",
    "\n",
    "brands_mapped = map(capitalization, brands)\n",
    "brandsFixed = list(brands_mapped)"
   ]
  },
  {
   "cell_type": "markdown",
   "metadata": {},
   "source": [
    "### Using .map() and .apply()"
   ]
  },
  {
   "cell_type": "code",
   "execution_count": 62,
   "metadata": {},
   "outputs": [],
   "source": [
    "# .map(dict OR function) \n",
    "# - Series \n",
    "\n",
    "# .apply(function)\n",
    "# - Series or DataFrame\n",
    "\n",
    "\n",
    "sample_df['brands'] = sample_df['brands'].apply(capitalization)"
   ]
  },
  {
   "cell_type": "code",
   "execution_count": 63,
   "metadata": {},
   "outputs": [],
   "source": [
    "business_flag = {\n",
    "    'telecom': 1,\n",
    "    'electronics': 5,\n",
    "    'automotive': 7\n",
    "}\n",
    "\n",
    "sample_df['business_type'] = sample_df['business_type'].map(business_flag)"
   ]
  },
  {
   "cell_type": "code",
   "execution_count": 64,
   "metadata": {},
   "outputs": [
    {
     "data": {
      "text/html": [
       "<div>\n",
       "<style scoped>\n",
       "    .dataframe tbody tr th:only-of-type {\n",
       "        vertical-align: middle;\n",
       "    }\n",
       "\n",
       "    .dataframe tbody tr th {\n",
       "        vertical-align: top;\n",
       "    }\n",
       "\n",
       "    .dataframe thead th {\n",
       "        text-align: right;\n",
       "    }\n",
       "</style>\n",
       "<table border=\"1\" class=\"dataframe\">\n",
       "  <thead>\n",
       "    <tr style=\"text-align: right;\">\n",
       "      <th></th>\n",
       "      <th>brands</th>\n",
       "      <th>origin</th>\n",
       "      <th>business_type</th>\n",
       "    </tr>\n",
       "  </thead>\n",
       "  <tbody>\n",
       "    <tr>\n",
       "      <th>0</th>\n",
       "      <td>Nokia</td>\n",
       "      <td>Finland</td>\n",
       "      <td>1</td>\n",
       "    </tr>\n",
       "    <tr>\n",
       "      <th>1</th>\n",
       "      <td>Sony</td>\n",
       "      <td>Japan</td>\n",
       "      <td>5</td>\n",
       "    </tr>\n",
       "    <tr>\n",
       "      <th>2</th>\n",
       "      <td>Tesla</td>\n",
       "      <td>US</td>\n",
       "      <td>7</td>\n",
       "    </tr>\n",
       "    <tr>\n",
       "      <th>3</th>\n",
       "      <td>Toyota</td>\n",
       "      <td>Japan</td>\n",
       "      <td>7</td>\n",
       "    </tr>\n",
       "    <tr>\n",
       "      <th>4</th>\n",
       "      <td>Nissan</td>\n",
       "      <td>Japan</td>\n",
       "      <td>7</td>\n",
       "    </tr>\n",
       "  </tbody>\n",
       "</table>\n",
       "</div>"
      ],
      "text/plain": [
       "   brands   origin  business_type\n",
       "0   Nokia  Finland              1\n",
       "1    Sony    Japan              5\n",
       "2   Tesla       US              7\n",
       "3  Toyota    Japan              7\n",
       "4  Nissan    Japan              7"
      ]
     },
     "execution_count": 64,
     "metadata": {},
     "output_type": "execute_result"
    }
   ],
   "source": [
    "sample_df.head()"
   ]
  },
  {
   "cell_type": "markdown",
   "metadata": {},
   "source": [
    "### Appending a new Column"
   ]
  },
  {
   "cell_type": "code",
   "execution_count": 65,
   "metadata": {},
   "outputs": [],
   "source": [
    "# Option 1\n",
    "# When values are in a dictionary\n",
    "# new_column = {\n",
    "#     'ceo': ['Pekka Lundmark', 'Kenichiro Yoshida', 'Elon Musk', 'Akio Toyoda', 'Makoto Uchida']\n",
    "# }\n",
    "\n",
    "# sample_df['CEO'] = pd.DataFrame(data=new_column)\n",
    "\n",
    "\n",
    "# Option 2\n",
    "# When values are in a list\n",
    "people = ['Pekka Lundmark', 'Kenichiro Yoshida', 'Elon Musk', 'Akio Toyoda', 'Makoto Uchida']\n",
    "\n",
    "sample_df['CEO'] = people"
   ]
  },
  {
   "cell_type": "code",
   "execution_count": 66,
   "metadata": {},
   "outputs": [
    {
     "data": {
      "text/html": [
       "<div>\n",
       "<style scoped>\n",
       "    .dataframe tbody tr th:only-of-type {\n",
       "        vertical-align: middle;\n",
       "    }\n",
       "\n",
       "    .dataframe tbody tr th {\n",
       "        vertical-align: top;\n",
       "    }\n",
       "\n",
       "    .dataframe thead th {\n",
       "        text-align: right;\n",
       "    }\n",
       "</style>\n",
       "<table border=\"1\" class=\"dataframe\">\n",
       "  <thead>\n",
       "    <tr style=\"text-align: right;\">\n",
       "      <th></th>\n",
       "      <th>brands</th>\n",
       "      <th>origin</th>\n",
       "      <th>business_type</th>\n",
       "      <th>CEO</th>\n",
       "    </tr>\n",
       "  </thead>\n",
       "  <tbody>\n",
       "    <tr>\n",
       "      <th>0</th>\n",
       "      <td>Nokia</td>\n",
       "      <td>Finland</td>\n",
       "      <td>1</td>\n",
       "      <td>Pekka Lundmark</td>\n",
       "    </tr>\n",
       "    <tr>\n",
       "      <th>1</th>\n",
       "      <td>Sony</td>\n",
       "      <td>Japan</td>\n",
       "      <td>5</td>\n",
       "      <td>Kenichiro Yoshida</td>\n",
       "    </tr>\n",
       "    <tr>\n",
       "      <th>2</th>\n",
       "      <td>Tesla</td>\n",
       "      <td>US</td>\n",
       "      <td>7</td>\n",
       "      <td>Elon Musk</td>\n",
       "    </tr>\n",
       "    <tr>\n",
       "      <th>3</th>\n",
       "      <td>Toyota</td>\n",
       "      <td>Japan</td>\n",
       "      <td>7</td>\n",
       "      <td>Akio Toyoda</td>\n",
       "    </tr>\n",
       "    <tr>\n",
       "      <th>4</th>\n",
       "      <td>Nissan</td>\n",
       "      <td>Japan</td>\n",
       "      <td>7</td>\n",
       "      <td>Makoto Uchida</td>\n",
       "    </tr>\n",
       "  </tbody>\n",
       "</table>\n",
       "</div>"
      ],
      "text/plain": [
       "   brands   origin  business_type                CEO\n",
       "0   Nokia  Finland              1     Pekka Lundmark\n",
       "1    Sony    Japan              5  Kenichiro Yoshida\n",
       "2   Tesla       US              7          Elon Musk\n",
       "3  Toyota    Japan              7        Akio Toyoda\n",
       "4  Nissan    Japan              7      Makoto Uchida"
      ]
     },
     "execution_count": 66,
     "metadata": {},
     "output_type": "execute_result"
    }
   ],
   "source": [
    "sample_df"
   ]
  },
  {
   "cell_type": "markdown",
   "metadata": {},
   "source": [
    "# Example with Lambda"
   ]
  },
  {
   "cell_type": "code",
   "execution_count": 67,
   "metadata": {},
   "outputs": [],
   "source": [
    "prices = [\n",
    "    4.00,\n",
    "    6.00,\n",
    "    5.00,\n",
    "    2.00,\n",
    "    1.00\n",
    "]\n",
    "\n",
    "\n",
    "exchange_rate_usd_aed = 3.67\n",
    "\n",
    "prices_converted =  list(map(lambda arg: arg * exchange_rate_usd_aed, prices))"
   ]
  },
  {
   "cell_type": "code",
   "execution_count": 68,
   "metadata": {},
   "outputs": [
    {
     "data": {
      "text/plain": [
       "[14.68, 22.02, 18.35, 7.34, 3.67]"
      ]
     },
     "execution_count": 68,
     "metadata": {},
     "output_type": "execute_result"
    }
   ],
   "source": [
    "prices_converted"
   ]
  }
 ],
 "metadata": {
  "interpreter": {
   "hash": "949777d72b0d2535278d3dc13498b2535136f6dfe0678499012e853ee9abcab1"
  },
  "kernelspec": {
   "display_name": "Python 3.9.4 64-bit",
   "language": "python",
   "name": "python3"
  },
  "language_info": {
   "codemirror_mode": {
    "name": "ipython",
    "version": 3
   },
   "file_extension": ".py",
   "mimetype": "text/x-python",
   "name": "python",
   "nbconvert_exporter": "python",
   "pygments_lexer": "ipython3",
   "version": "3.9.4"
  },
  "orig_nbformat": 4
 },
 "nbformat": 4,
 "nbformat_minor": 2
}
