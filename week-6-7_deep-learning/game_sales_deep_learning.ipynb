{
  "cells": [
    {
      "cell_type": "markdown",
      "metadata": {
        "id": "lStHceVGoFGR"
      },
      "source": [
        "# Game Sales: Prediction with Deep Learning"
      ]
    },
    {
      "cell_type": "code",
      "execution_count": null,
      "metadata": {
        "id": "-7eLI50bjh9d"
      },
      "outputs": [],
      "source": [
        "import pandas as pd\n",
        "\n",
        "# Import Sequential to build a sequence of\n",
        "# layers (input, output, and hidden layers)\n",
        "from keras.models import Sequential\n",
        "\n",
        "from keras.layers import *"
      ]
    },
    {
      "cell_type": "code",
      "execution_count": null,
      "metadata": {
        "id": "tsX1-lnOpQci"
      },
      "outputs": [],
      "source": [
        "train_df = pd.read_csv('./sales_data_train_scaled.csv')\n",
        "test_df = pd.read_csv('./sales_data_test_scaled.csv')"
      ]
    },
    {
      "cell_type": "code",
      "execution_count": null,
      "metadata": {
        "colab": {
          "base_uri": "https://localhost:8080/",
          "height": 270
        },
        "id": "Htr8cabSpftH",
        "outputId": "a627a268-e1d4-41bd-db00-9fd0c889707d"
      },
      "outputs": [
        {
          "data": {
            "text/html": [
              "\n",
              "  <div id=\"df-a8d07f95-47ef-4de8-85e6-e054980c93ad\">\n",
              "    <div class=\"colab-df-container\">\n",
              "      <div>\n",
              "<style scoped>\n",
              "    .dataframe tbody tr th:only-of-type {\n",
              "        vertical-align: middle;\n",
              "    }\n",
              "\n",
              "    .dataframe tbody tr th {\n",
              "        vertical-align: top;\n",
              "    }\n",
              "\n",
              "    .dataframe thead th {\n",
              "        text-align: right;\n",
              "    }\n",
              "</style>\n",
              "<table border=\"1\" class=\"dataframe\">\n",
              "  <thead>\n",
              "    <tr style=\"text-align: right;\">\n",
              "      <th></th>\n",
              "      <th>critic_rating</th>\n",
              "      <th>is_action</th>\n",
              "      <th>is_exclusive_to_us</th>\n",
              "      <th>is_portable</th>\n",
              "      <th>is_role_playing</th>\n",
              "      <th>is_sequel</th>\n",
              "      <th>is_sports</th>\n",
              "      <th>suitable_for_kids</th>\n",
              "      <th>total_earnings</th>\n",
              "      <th>unit_price</th>\n",
              "    </tr>\n",
              "  </thead>\n",
              "  <tbody>\n",
              "    <tr>\n",
              "      <th>0</th>\n",
              "      <td>0.500000</td>\n",
              "      <td>1.0</td>\n",
              "      <td>0.0</td>\n",
              "      <td>1.0</td>\n",
              "      <td>0.0</td>\n",
              "      <td>1.0</td>\n",
              "      <td>0.0</td>\n",
              "      <td>0.0</td>\n",
              "      <td>0.374714</td>\n",
              "      <td>1.0</td>\n",
              "    </tr>\n",
              "    <tr>\n",
              "      <th>1</th>\n",
              "      <td>0.833333</td>\n",
              "      <td>0.0</td>\n",
              "      <td>0.0</td>\n",
              "      <td>0.0</td>\n",
              "      <td>0.0</td>\n",
              "      <td>1.0</td>\n",
              "      <td>1.0</td>\n",
              "      <td>0.0</td>\n",
              "      <td>0.192425</td>\n",
              "      <td>0.5</td>\n",
              "    </tr>\n",
              "    <tr>\n",
              "      <th>2</th>\n",
              "      <td>0.333333</td>\n",
              "      <td>0.0</td>\n",
              "      <td>0.0</td>\n",
              "      <td>0.0</td>\n",
              "      <td>0.0</td>\n",
              "      <td>1.0</td>\n",
              "      <td>1.0</td>\n",
              "      <td>0.0</td>\n",
              "      <td>0.114852</td>\n",
              "      <td>0.5</td>\n",
              "    </tr>\n",
              "    <tr>\n",
              "      <th>3</th>\n",
              "      <td>0.833333</td>\n",
              "      <td>1.0</td>\n",
              "      <td>0.0</td>\n",
              "      <td>0.0</td>\n",
              "      <td>0.0</td>\n",
              "      <td>0.0</td>\n",
              "      <td>0.0</td>\n",
              "      <td>1.0</td>\n",
              "      <td>0.142452</td>\n",
              "      <td>0.0</td>\n",
              "    </tr>\n",
              "    <tr>\n",
              "      <th>4</th>\n",
              "      <td>0.666667</td>\n",
              "      <td>1.0</td>\n",
              "      <td>0.0</td>\n",
              "      <td>1.0</td>\n",
              "      <td>0.0</td>\n",
              "      <td>1.0</td>\n",
              "      <td>0.0</td>\n",
              "      <td>1.0</td>\n",
              "      <td>0.480682</td>\n",
              "      <td>1.0</td>\n",
              "    </tr>\n",
              "  </tbody>\n",
              "</table>\n",
              "</div>\n",
              "      <button class=\"colab-df-convert\" onclick=\"convertToInteractive('df-a8d07f95-47ef-4de8-85e6-e054980c93ad')\"\n",
              "              title=\"Convert this dataframe to an interactive table.\"\n",
              "              style=\"display:none;\">\n",
              "        \n",
              "  <svg xmlns=\"http://www.w3.org/2000/svg\" height=\"24px\"viewBox=\"0 0 24 24\"\n",
              "       width=\"24px\">\n",
              "    <path d=\"M0 0h24v24H0V0z\" fill=\"none\"/>\n",
              "    <path d=\"M18.56 5.44l.94 2.06.94-2.06 2.06-.94-2.06-.94-.94-2.06-.94 2.06-2.06.94zm-11 1L8.5 8.5l.94-2.06 2.06-.94-2.06-.94L8.5 2.5l-.94 2.06-2.06.94zm10 10l.94 2.06.94-2.06 2.06-.94-2.06-.94-.94-2.06-.94 2.06-2.06.94z\"/><path d=\"M17.41 7.96l-1.37-1.37c-.4-.4-.92-.59-1.43-.59-.52 0-1.04.2-1.43.59L10.3 9.45l-7.72 7.72c-.78.78-.78 2.05 0 2.83L4 21.41c.39.39.9.59 1.41.59.51 0 1.02-.2 1.41-.59l7.78-7.78 2.81-2.81c.8-.78.8-2.07 0-2.86zM5.41 20L4 18.59l7.72-7.72 1.47 1.35L5.41 20z\"/>\n",
              "  </svg>\n",
              "      </button>\n",
              "      \n",
              "  <style>\n",
              "    .colab-df-container {\n",
              "      display:flex;\n",
              "      flex-wrap:wrap;\n",
              "      gap: 12px;\n",
              "    }\n",
              "\n",
              "    .colab-df-convert {\n",
              "      background-color: #E8F0FE;\n",
              "      border: none;\n",
              "      border-radius: 50%;\n",
              "      cursor: pointer;\n",
              "      display: none;\n",
              "      fill: #1967D2;\n",
              "      height: 32px;\n",
              "      padding: 0 0 0 0;\n",
              "      width: 32px;\n",
              "    }\n",
              "\n",
              "    .colab-df-convert:hover {\n",
              "      background-color: #E2EBFA;\n",
              "      box-shadow: 0px 1px 2px rgba(60, 64, 67, 0.3), 0px 1px 3px 1px rgba(60, 64, 67, 0.15);\n",
              "      fill: #174EA6;\n",
              "    }\n",
              "\n",
              "    [theme=dark] .colab-df-convert {\n",
              "      background-color: #3B4455;\n",
              "      fill: #D2E3FC;\n",
              "    }\n",
              "\n",
              "    [theme=dark] .colab-df-convert:hover {\n",
              "      background-color: #434B5C;\n",
              "      box-shadow: 0px 1px 3px 1px rgba(0, 0, 0, 0.15);\n",
              "      filter: drop-shadow(0px 1px 2px rgba(0, 0, 0, 0.3));\n",
              "      fill: #FFFFFF;\n",
              "    }\n",
              "  </style>\n",
              "\n",
              "      <script>\n",
              "        const buttonEl =\n",
              "          document.querySelector('#df-a8d07f95-47ef-4de8-85e6-e054980c93ad button.colab-df-convert');\n",
              "        buttonEl.style.display =\n",
              "          google.colab.kernel.accessAllowed ? 'block' : 'none';\n",
              "\n",
              "        async function convertToInteractive(key) {\n",
              "          const element = document.querySelector('#df-a8d07f95-47ef-4de8-85e6-e054980c93ad');\n",
              "          const dataTable =\n",
              "            await google.colab.kernel.invokeFunction('convertToInteractive',\n",
              "                                                     [key], {});\n",
              "          if (!dataTable) return;\n",
              "\n",
              "          const docLinkHtml = 'Like what you see? Visit the ' +\n",
              "            '<a target=\"_blank\" href=https://colab.research.google.com/notebooks/data_table.ipynb>data table notebook</a>'\n",
              "            + ' to learn more about interactive tables.';\n",
              "          element.innerHTML = '';\n",
              "          dataTable['output_type'] = 'display_data';\n",
              "          await google.colab.output.renderOutput(dataTable, element);\n",
              "          const docLink = document.createElement('div');\n",
              "          docLink.innerHTML = docLinkHtml;\n",
              "          element.appendChild(docLink);\n",
              "        }\n",
              "      </script>\n",
              "    </div>\n",
              "  </div>\n",
              "  "
            ],
            "text/plain": [
              "   critic_rating  is_action  is_exclusive_to_us  is_portable  is_role_playing  \\\n",
              "0       0.500000        1.0                 0.0          1.0              0.0   \n",
              "1       0.833333        0.0                 0.0          0.0              0.0   \n",
              "2       0.333333        0.0                 0.0          0.0              0.0   \n",
              "3       0.833333        1.0                 0.0          0.0              0.0   \n",
              "4       0.666667        1.0                 0.0          1.0              0.0   \n",
              "\n",
              "   is_sequel  is_sports  suitable_for_kids  total_earnings  unit_price  \n",
              "0        1.0        0.0                0.0        0.374714         1.0  \n",
              "1        1.0        1.0                0.0        0.192425         0.5  \n",
              "2        1.0        1.0                0.0        0.114852         0.5  \n",
              "3        0.0        0.0                1.0        0.142452         0.0  \n",
              "4        1.0        0.0                1.0        0.480682         1.0  "
            ]
          },
          "execution_count": 3,
          "metadata": {},
          "output_type": "execute_result"
        }
      ],
      "source": [
        "train_df.head()"
      ]
    },
    {
      "cell_type": "code",
      "execution_count": null,
      "metadata": {
        "id": "w6HiL5vZpi4W"
      },
      "outputs": [],
      "source": [
        "labels_df = train_df['total_earnings']\n",
        "features_df = train_df.drop('total_earnings', axis=1, inplace=False)"
      ]
    },
    {
      "cell_type": "markdown",
      "metadata": {
        "id": "a2Tr-c9hsYI2"
      },
      "source": [
        "### Build the Neural Network"
      ]
    },
    {
      "cell_type": "code",
      "execution_count": null,
      "metadata": {
        "id": "-cKixt-BsSbO"
      },
      "outputs": [],
      "source": [
        "model_dl = Sequential()\n",
        "\n",
        "# Input Layer\n",
        "model_dl.add(\n",
        "    Dense(50, input_dim=9, activation='relu')\n",
        ")\n",
        "\n",
        "# Hidden Layers\n",
        "model_dl.add(\n",
        "    Dense(100, activation='relu')\n",
        ")\n",
        "model_dl.add(\n",
        "    Dense(50, activation='relu')\n",
        ")\n",
        "\n",
        "\n",
        "# Output Layer\n",
        "model_dl.add(\n",
        "    Dense(1, activation='linear')\n",
        ")"
      ]
    },
    {
      "cell_type": "code",
      "execution_count": null,
      "metadata": {
        "id": "hV7Q7nvB1Dl6"
      },
      "outputs": [],
      "source": [
        "# Loss is the technique used to calculate the metric\n",
        "# Optimizer is the algorithm used to find the best hyperparameters\n",
        "# Note: \n",
        "# ADAM (ADaptive Moment Estimation)\n",
        "# The ADAM algoritm uses gradient descent \n",
        "# to find the global minima of the weight space\n",
        "\n",
        "model_dl.compile(\n",
        "    loss='mean_squared_error',\n",
        "    optimizer='adam'\n",
        ")"
      ]
    },
    {
      "cell_type": "markdown",
      "metadata": {
        "id": "W8DRoN79asb6"
      },
      "source": [
        "### Train and Evaluate Model"
      ]
    },
    {
      "cell_type": "code",
      "execution_count": null,
      "metadata": {
        "id": "JL66bQuqadAQ"
      },
      "outputs": [],
      "source": [
        "# features_df contains the features of training data\n",
        "# labels_df contains the labels for training data\n",
        "# epochs is the number of times to propogate the data\n",
        "# shuffle will randomize the data before training\n",
        "# verbose will control what information will be logged during training\n",
        "model_dl.fit( features_df, labels_df, epochs=50, shuffle=True, verbose=2 )"
      ]
    },
    {
      "cell_type": "code",
      "execution_count": null,
      "metadata": {},
      "outputs": [],
      "source": [
        "# Extract features and labels from train data\n",
        "features_train = train_df.drop('total_earnings', axis=1).values\n",
        "labels_train = train_df[['total_earnings']].values"
      ]
    },
    {
      "cell_type": "code",
      "execution_count": null,
      "metadata": {
        "id": "NwzW8W_aYFh8"
      },
      "outputs": [],
      "source": [
        "# MSE Train\n",
        "mse_train = model_dl.evaluate( features_train, labels_train, verbose=0 )\n",
        "print( 'MSE Train: ', mse_train  )"
      ]
    },
    {
      "cell_type": "code",
      "execution_count": null,
      "metadata": {
        "id": "4kewfoFXWprj"
      },
      "outputs": [],
      "source": [
        "# Extract features and labels from test data\n",
        "features_test = test_df.drop('total_earnings', axis=1).values\n",
        "labels_test = test_df[['total_earnings']].values"
      ]
    },
    {
      "cell_type": "code",
      "execution_count": null,
      "metadata": {
        "colab": {
          "base_uri": "https://localhost:8080/"
        },
        "id": "Q-hqV5doXXW6",
        "outputId": "2b1eee25-9733-4488-c4a3-a6f5195f7a14"
      },
      "outputs": [
        {
          "name": "stdout",
          "output_type": "stream",
          "text": [
            "MSE Test:  0.00097703468054533\n"
          ]
        }
      ],
      "source": [
        "# MSE Test\n",
        "mse_test = model_dl.evaluate( features_test, labels_test, verbose=0 )\n",
        "print( 'MSE Test: ', mse_test  )"
      ]
    },
    {
      "cell_type": "code",
      "execution_count": null,
      "metadata": {
        "colab": {
          "base_uri": "https://localhost:8080/"
        },
        "id": "A0mXHUOMXYCU",
        "outputId": "e1232aa7-bba2-412d-aef1-d341d5f0320b"
      },
      "outputs": [
        {
          "data": {
            "text/plain": [
              "array([[0.29026964]], dtype=float32)"
            ]
          },
          "execution_count": 25,
          "metadata": {},
          "output_type": "execute_result"
        }
      ],
      "source": [
        "# Predict with the model\n",
        "new_product_df = pd.read_csv('./new_product.csv')\n",
        "new_product = new_product_df.values\n",
        "\n",
        "# Predict the label of the new product\n",
        "predictes_sales = model_dl.predict(new_product)\n",
        "\n",
        "predictes_sales"
      ]
    },
    {
      "cell_type": "code",
      "execution_count": null,
      "metadata": {
        "colab": {
          "base_uri": "https://localhost:8080/"
        },
        "id": "lIHafDt4aGYf",
        "outputId": "71b3da9d-b531-4923-ade9-e72b2d3aa234"
      },
      "outputs": [
        {
          "data": {
            "text/plain": [
              "109874.11898623501"
            ]
          },
          "execution_count": 26,
          "metadata": {},
          "output_type": "execute_result"
        }
      ],
      "source": [
        "prediction_scalar = predictes_sales[0][0] # 0.29026964\n",
        "prediction_scalar = prediction_scalar + 0.115913\n",
        "prediction_unscaled = prediction_scalar/0.0000036968\n",
        "prediction_unscaled"
      ]
    },
    {
      "cell_type": "code",
      "execution_count": null,
      "metadata": {
        "id": "WMsnerfkbz2X"
      },
      "outputs": [],
      "source": [
        "[\n",
        " 12,\n",
        " 3,\n",
        " 56,\n",
        " 34,\n",
        " 23,\n",
        "]\n",
        "\n",
        "\n",
        "[\n",
        " ...,\n",
        " 0,\n",
        " 1,\n",
        " ...,\n",
        " ...,\n",
        " ...\n",
        "]"
      ]
    }
  ],
  "metadata": {
    "colab": {
      "name": "game-sales_deep-learning.ipynb",
      "provenance": []
    },
    "kernelspec": {
      "display_name": "Python 3",
      "name": "python3"
    },
    "language_info": {
      "name": "python"
    }
  },
  "nbformat": 4,
  "nbformat_minor": 0
}
