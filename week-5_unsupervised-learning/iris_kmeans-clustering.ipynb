{
  "nbformat": 4,
  "nbformat_minor": 0,
  "metadata": {
    "colab": {
      "name": "iris_kmeans-clustering.ipynb",
      "provenance": [],
      "collapsed_sections": []
    },
    "kernelspec": {
      "name": "python3",
      "display_name": "Python 3"
    },
    "language_info": {
      "name": "python"
    }
  },
  "cells": [
    {
      "cell_type": "markdown",
      "source": [
        "# Iris K-Means Clustering"
      ],
      "metadata": {
        "id": "Jde0WVmA4-ix"
      }
    },
    {
      "cell_type": "code",
      "source": [
        "import pandas as pd\n",
        "import numpy as np\n",
        "\n",
        "from sklearn.datasets import load_iris\n",
        "from sklearn.cluster import KMeans\n",
        "from sklearn.model_selection import train_test_split\n",
        "from sklearn.preprocessing import StandardScaler\n",
        "\n",
        "import matplotlib.pyplot as plt"
      ],
      "metadata": {
        "id": "syTK1KUw5dgW"
      },
<<<<<<< HEAD
      "execution_count": 1,
=======
      "execution_count": null,
>>>>>>> 43924e48bc09ae991eb9eca717e78ab85e940c6e
      "outputs": []
    },
    {
      "cell_type": "markdown",
      "source": [
        "### EDA"
      ],
      "metadata": {
        "id": "mKm5KVUP5IbB"
      }
    },
    {
      "cell_type": "code",
<<<<<<< HEAD
      "execution_count": 4,
=======
      "execution_count": null,
>>>>>>> 43924e48bc09ae991eb9eca717e78ab85e940c6e
      "metadata": {
        "colab": {
          "base_uri": "https://localhost:8080/",
          "height": 206
        },
        "id": "egIb4z3m47W3",
        "outputId": "e96743e9-9a21-46e4-f701-9d8d1f350f85"
      },
      "outputs": [
        {
          "output_type": "execute_result",
          "data": {
            "text/plain": [
              "   sepal length (cm)  sepal width (cm)  petal length (cm)  petal width (cm)\n",
              "0                5.1               3.5                1.4               0.2\n",
              "1                4.9               3.0                1.4               0.2\n",
              "2                4.7               3.2                1.3               0.2\n",
              "3                4.6               3.1                1.5               0.2\n",
              "4                5.0               3.6                1.4               0.2"
            ],
            "text/html": [
              "\n",
              "  <div id=\"df-cc20575a-dba5-419d-ac0b-fa926bc81364\">\n",
              "    <div class=\"colab-df-container\">\n",
              "      <div>\n",
              "<style scoped>\n",
              "    .dataframe tbody tr th:only-of-type {\n",
              "        vertical-align: middle;\n",
              "    }\n",
              "\n",
              "    .dataframe tbody tr th {\n",
              "        vertical-align: top;\n",
              "    }\n",
              "\n",
              "    .dataframe thead th {\n",
              "        text-align: right;\n",
              "    }\n",
              "</style>\n",
              "<table border=\"1\" class=\"dataframe\">\n",
              "  <thead>\n",
              "    <tr style=\"text-align: right;\">\n",
              "      <th></th>\n",
              "      <th>sepal length (cm)</th>\n",
              "      <th>sepal width (cm)</th>\n",
              "      <th>petal length (cm)</th>\n",
              "      <th>petal width (cm)</th>\n",
              "    </tr>\n",
              "  </thead>\n",
              "  <tbody>\n",
              "    <tr>\n",
              "      <th>0</th>\n",
              "      <td>5.1</td>\n",
              "      <td>3.5</td>\n",
              "      <td>1.4</td>\n",
              "      <td>0.2</td>\n",
              "    </tr>\n",
              "    <tr>\n",
              "      <th>1</th>\n",
              "      <td>4.9</td>\n",
              "      <td>3.0</td>\n",
              "      <td>1.4</td>\n",
              "      <td>0.2</td>\n",
              "    </tr>\n",
              "    <tr>\n",
              "      <th>2</th>\n",
              "      <td>4.7</td>\n",
              "      <td>3.2</td>\n",
              "      <td>1.3</td>\n",
              "      <td>0.2</td>\n",
              "    </tr>\n",
              "    <tr>\n",
              "      <th>3</th>\n",
              "      <td>4.6</td>\n",
              "      <td>3.1</td>\n",
              "      <td>1.5</td>\n",
              "      <td>0.2</td>\n",
              "    </tr>\n",
              "    <tr>\n",
              "      <th>4</th>\n",
              "      <td>5.0</td>\n",
              "      <td>3.6</td>\n",
              "      <td>1.4</td>\n",
              "      <td>0.2</td>\n",
              "    </tr>\n",
              "  </tbody>\n",
              "</table>\n",
              "</div>\n",
              "      <button class=\"colab-df-convert\" onclick=\"convertToInteractive('df-cc20575a-dba5-419d-ac0b-fa926bc81364')\"\n",
              "              title=\"Convert this dataframe to an interactive table.\"\n",
              "              style=\"display:none;\">\n",
              "        \n",
              "  <svg xmlns=\"http://www.w3.org/2000/svg\" height=\"24px\"viewBox=\"0 0 24 24\"\n",
              "       width=\"24px\">\n",
              "    <path d=\"M0 0h24v24H0V0z\" fill=\"none\"/>\n",
              "    <path d=\"M18.56 5.44l.94 2.06.94-2.06 2.06-.94-2.06-.94-.94-2.06-.94 2.06-2.06.94zm-11 1L8.5 8.5l.94-2.06 2.06-.94-2.06-.94L8.5 2.5l-.94 2.06-2.06.94zm10 10l.94 2.06.94-2.06 2.06-.94-2.06-.94-.94-2.06-.94 2.06-2.06.94z\"/><path d=\"M17.41 7.96l-1.37-1.37c-.4-.4-.92-.59-1.43-.59-.52 0-1.04.2-1.43.59L10.3 9.45l-7.72 7.72c-.78.78-.78 2.05 0 2.83L4 21.41c.39.39.9.59 1.41.59.51 0 1.02-.2 1.41-.59l7.78-7.78 2.81-2.81c.8-.78.8-2.07 0-2.86zM5.41 20L4 18.59l7.72-7.72 1.47 1.35L5.41 20z\"/>\n",
              "  </svg>\n",
              "      </button>\n",
              "      \n",
              "  <style>\n",
              "    .colab-df-container {\n",
              "      display:flex;\n",
              "      flex-wrap:wrap;\n",
              "      gap: 12px;\n",
              "    }\n",
              "\n",
              "    .colab-df-convert {\n",
              "      background-color: #E8F0FE;\n",
              "      border: none;\n",
              "      border-radius: 50%;\n",
              "      cursor: pointer;\n",
              "      display: none;\n",
              "      fill: #1967D2;\n",
              "      height: 32px;\n",
              "      padding: 0 0 0 0;\n",
              "      width: 32px;\n",
              "    }\n",
              "\n",
              "    .colab-df-convert:hover {\n",
              "      background-color: #E2EBFA;\n",
              "      box-shadow: 0px 1px 2px rgba(60, 64, 67, 0.3), 0px 1px 3px 1px rgba(60, 64, 67, 0.15);\n",
              "      fill: #174EA6;\n",
              "    }\n",
              "\n",
              "    [theme=dark] .colab-df-convert {\n",
              "      background-color: #3B4455;\n",
              "      fill: #D2E3FC;\n",
              "    }\n",
              "\n",
              "    [theme=dark] .colab-df-convert:hover {\n",
              "      background-color: #434B5C;\n",
              "      box-shadow: 0px 1px 3px 1px rgba(0, 0, 0, 0.15);\n",
              "      filter: drop-shadow(0px 1px 2px rgba(0, 0, 0, 0.3));\n",
              "      fill: #FFFFFF;\n",
              "    }\n",
              "  </style>\n",
              "\n",
              "      <script>\n",
              "        const buttonEl =\n",
              "          document.querySelector('#df-cc20575a-dba5-419d-ac0b-fa926bc81364 button.colab-df-convert');\n",
              "        buttonEl.style.display =\n",
              "          google.colab.kernel.accessAllowed ? 'block' : 'none';\n",
              "\n",
              "        async function convertToInteractive(key) {\n",
              "          const element = document.querySelector('#df-cc20575a-dba5-419d-ac0b-fa926bc81364');\n",
              "          const dataTable =\n",
              "            await google.colab.kernel.invokeFunction('convertToInteractive',\n",
              "                                                     [key], {});\n",
              "          if (!dataTable) return;\n",
              "\n",
              "          const docLinkHtml = 'Like what you see? Visit the ' +\n",
              "            '<a target=\"_blank\" href=https://colab.research.google.com/notebooks/data_table.ipynb>data table notebook</a>'\n",
              "            + ' to learn more about interactive tables.';\n",
              "          element.innerHTML = '';\n",
              "          dataTable['output_type'] = 'display_data';\n",
              "          await google.colab.output.renderOutput(dataTable, element);\n",
              "          const docLink = document.createElement('div');\n",
              "          docLink.innerHTML = docLinkHtml;\n",
              "          element.appendChild(docLink);\n",
              "        }\n",
              "      </script>\n",
              "    </div>\n",
              "  </div>\n",
              "  "
            ]
          },
          "metadata": {},
          "execution_count": 4
        }
      ],
      "source": [
        "iris_data = load_iris()\n",
        "iris_df = pd.DataFrame(iris_data.data, columns=iris_data.feature_names)\n",
        "iris_df.head()"
      ]
    },
    {
      "cell_type": "code",
      "source": [
        "selected_features = ['petal length (cm)', 'petal width (cm)']\n",
        "iris_petal_df = iris_df.loc[:, selected_features]"
      ],
      "metadata": {
        "id": "2f0azgM37M6X"
      },
<<<<<<< HEAD
      "execution_count": 5,
=======
      "execution_count": null,
>>>>>>> 43924e48bc09ae991eb9eca717e78ab85e940c6e
      "outputs": []
    },
    {
      "cell_type": "code",
      "source": [
        "iris_petal_df.head()"
      ],
      "metadata": {
        "colab": {
          "base_uri": "https://localhost:8080/",
          "height": 206
        },
        "id": "SiJkwnm_7rc2",
        "outputId": "d8607b81-d2ee-4a02-803a-8d2d49ebcf49"
      },
<<<<<<< HEAD
      "execution_count": 6,
=======
      "execution_count": null,
>>>>>>> 43924e48bc09ae991eb9eca717e78ab85e940c6e
      "outputs": [
        {
          "output_type": "execute_result",
          "data": {
            "text/plain": [
              "   petal length (cm)  petal width (cm)\n",
              "0                1.4               0.2\n",
              "1                1.4               0.2\n",
              "2                1.3               0.2\n",
              "3                1.5               0.2\n",
              "4                1.4               0.2"
            ],
            "text/html": [
              "\n",
              "  <div id=\"df-8b6fcf40-74a4-4aff-893a-f108b996d599\">\n",
              "    <div class=\"colab-df-container\">\n",
              "      <div>\n",
              "<style scoped>\n",
              "    .dataframe tbody tr th:only-of-type {\n",
              "        vertical-align: middle;\n",
              "    }\n",
              "\n",
              "    .dataframe tbody tr th {\n",
              "        vertical-align: top;\n",
              "    }\n",
              "\n",
              "    .dataframe thead th {\n",
              "        text-align: right;\n",
              "    }\n",
              "</style>\n",
              "<table border=\"1\" class=\"dataframe\">\n",
              "  <thead>\n",
              "    <tr style=\"text-align: right;\">\n",
              "      <th></th>\n",
              "      <th>petal length (cm)</th>\n",
              "      <th>petal width (cm)</th>\n",
              "    </tr>\n",
              "  </thead>\n",
              "  <tbody>\n",
              "    <tr>\n",
              "      <th>0</th>\n",
              "      <td>1.4</td>\n",
              "      <td>0.2</td>\n",
              "    </tr>\n",
              "    <tr>\n",
              "      <th>1</th>\n",
              "      <td>1.4</td>\n",
              "      <td>0.2</td>\n",
              "    </tr>\n",
              "    <tr>\n",
              "      <th>2</th>\n",
              "      <td>1.3</td>\n",
              "      <td>0.2</td>\n",
              "    </tr>\n",
              "    <tr>\n",
              "      <th>3</th>\n",
              "      <td>1.5</td>\n",
              "      <td>0.2</td>\n",
              "    </tr>\n",
              "    <tr>\n",
              "      <th>4</th>\n",
              "      <td>1.4</td>\n",
              "      <td>0.2</td>\n",
              "    </tr>\n",
              "  </tbody>\n",
              "</table>\n",
              "</div>\n",
              "      <button class=\"colab-df-convert\" onclick=\"convertToInteractive('df-8b6fcf40-74a4-4aff-893a-f108b996d599')\"\n",
              "              title=\"Convert this dataframe to an interactive table.\"\n",
              "              style=\"display:none;\">\n",
              "        \n",
              "  <svg xmlns=\"http://www.w3.org/2000/svg\" height=\"24px\"viewBox=\"0 0 24 24\"\n",
              "       width=\"24px\">\n",
              "    <path d=\"M0 0h24v24H0V0z\" fill=\"none\"/>\n",
              "    <path d=\"M18.56 5.44l.94 2.06.94-2.06 2.06-.94-2.06-.94-.94-2.06-.94 2.06-2.06.94zm-11 1L8.5 8.5l.94-2.06 2.06-.94-2.06-.94L8.5 2.5l-.94 2.06-2.06.94zm10 10l.94 2.06.94-2.06 2.06-.94-2.06-.94-.94-2.06-.94 2.06-2.06.94z\"/><path d=\"M17.41 7.96l-1.37-1.37c-.4-.4-.92-.59-1.43-.59-.52 0-1.04.2-1.43.59L10.3 9.45l-7.72 7.72c-.78.78-.78 2.05 0 2.83L4 21.41c.39.39.9.59 1.41.59.51 0 1.02-.2 1.41-.59l7.78-7.78 2.81-2.81c.8-.78.8-2.07 0-2.86zM5.41 20L4 18.59l7.72-7.72 1.47 1.35L5.41 20z\"/>\n",
              "  </svg>\n",
              "      </button>\n",
              "      \n",
              "  <style>\n",
              "    .colab-df-container {\n",
              "      display:flex;\n",
              "      flex-wrap:wrap;\n",
              "      gap: 12px;\n",
              "    }\n",
              "\n",
              "    .colab-df-convert {\n",
              "      background-color: #E8F0FE;\n",
              "      border: none;\n",
              "      border-radius: 50%;\n",
              "      cursor: pointer;\n",
              "      display: none;\n",
              "      fill: #1967D2;\n",
              "      height: 32px;\n",
              "      padding: 0 0 0 0;\n",
              "      width: 32px;\n",
              "    }\n",
              "\n",
              "    .colab-df-convert:hover {\n",
              "      background-color: #E2EBFA;\n",
              "      box-shadow: 0px 1px 2px rgba(60, 64, 67, 0.3), 0px 1px 3px 1px rgba(60, 64, 67, 0.15);\n",
              "      fill: #174EA6;\n",
              "    }\n",
              "\n",
              "    [theme=dark] .colab-df-convert {\n",
              "      background-color: #3B4455;\n",
              "      fill: #D2E3FC;\n",
              "    }\n",
              "\n",
              "    [theme=dark] .colab-df-convert:hover {\n",
              "      background-color: #434B5C;\n",
              "      box-shadow: 0px 1px 3px 1px rgba(0, 0, 0, 0.15);\n",
              "      filter: drop-shadow(0px 1px 2px rgba(0, 0, 0, 0.3));\n",
              "      fill: #FFFFFF;\n",
              "    }\n",
              "  </style>\n",
              "\n",
              "      <script>\n",
              "        const buttonEl =\n",
              "          document.querySelector('#df-8b6fcf40-74a4-4aff-893a-f108b996d599 button.colab-df-convert');\n",
              "        buttonEl.style.display =\n",
              "          google.colab.kernel.accessAllowed ? 'block' : 'none';\n",
              "\n",
              "        async function convertToInteractive(key) {\n",
              "          const element = document.querySelector('#df-8b6fcf40-74a4-4aff-893a-f108b996d599');\n",
              "          const dataTable =\n",
              "            await google.colab.kernel.invokeFunction('convertToInteractive',\n",
              "                                                     [key], {});\n",
              "          if (!dataTable) return;\n",
              "\n",
              "          const docLinkHtml = 'Like what you see? Visit the ' +\n",
              "            '<a target=\"_blank\" href=https://colab.research.google.com/notebooks/data_table.ipynb>data table notebook</a>'\n",
              "            + ' to learn more about interactive tables.';\n",
              "          element.innerHTML = '';\n",
              "          dataTable['output_type'] = 'display_data';\n",
              "          await google.colab.output.renderOutput(dataTable, element);\n",
              "          const docLink = document.createElement('div');\n",
              "          docLink.innerHTML = docLinkHtml;\n",
              "          element.appendChild(docLink);\n",
              "        }\n",
              "      </script>\n",
              "    </div>\n",
              "  </div>\n",
              "  "
            ]
          },
          "metadata": {},
          "execution_count": 6
        }
      ]
    },
    {
      "cell_type": "code",
      "source": [
        "# Extract the values from the dataframe\n",
        "features = iris_petal_df.values\n",
        "\n",
        "# Instantiate the scaler\n",
        "scaler = StandardScaler()\n",
        "\n",
        "# Apply standardization to the features\n",
        "features_standardized = scaler.fit_transform(features)"
      ],
      "metadata": {
        "id": "cVsCeB2873WG"
      },
<<<<<<< HEAD
      "execution_count": 7,
=======
      "execution_count": null,
>>>>>>> 43924e48bc09ae991eb9eca717e78ab85e940c6e
      "outputs": []
    },
    {
      "cell_type": "code",
      "source": [
        "# Plot the data to see relation of petal length vs petal width\n",
        "plt.scatter(\n",
        "    iris_petal_df['petal length (cm)'],\n",
        "    iris_petal_df['petal width (cm)']\n",
        ")\n",
        "\n",
        "plt.xlabel('Petal length (cm)')\n",
        "plt.ylabel('Petal width (cm)')"
      ],
      "metadata": {
        "colab": {
          "base_uri": "https://localhost:8080/",
          "height": 297
        },
        "id": "2CCgcd2R8gAS",
        "outputId": "0e910737-01cf-4d80-da22-984de36f046a"
      },
<<<<<<< HEAD
      "execution_count": 9,
=======
      "execution_count": null,
>>>>>>> 43924e48bc09ae991eb9eca717e78ab85e940c6e
      "outputs": [
        {
          "output_type": "execute_result",
          "data": {
            "text/plain": [
              "Text(0, 0.5, 'Petal width (cm)')"
            ]
          },
          "metadata": {},
          "execution_count": 9
        },
        {
          "output_type": "display_data",
          "data": {
            "text/plain": [
              "<Figure size 432x288 with 1 Axes>"
            ],
            "image/png": "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\n"
          },
          "metadata": {
            "needs_background": "light"
          }
        }
      ]
    },
    {
      "cell_type": "markdown",
      "source": [
        "### Train the Model"
      ],
      "metadata": {
        "id": "5AkFmnyL5JnU"
      }
    },
    {
      "cell_type": "code",
      "source": [
        "model_kmeans = KMeans(n_clusters=3) # n_clusters is the number of clusters to find in the data\n",
        "\n",
        "model_kmeans.fit( features_standardized )"
      ],
      "metadata": {
        "colab": {
          "base_uri": "https://localhost:8080/"
        },
        "id": "_l3pkGIM5O0_",
        "outputId": "d49fe5d8-8012-4bf2-e847-e574686ff5d3"
      },
<<<<<<< HEAD
      "execution_count": 10,
=======
      "execution_count": null,
>>>>>>> 43924e48bc09ae991eb9eca717e78ab85e940c6e
      "outputs": [
        {
          "output_type": "execute_result",
          "data": {
            "text/plain": [
              "KMeans(n_clusters=3)"
            ]
          },
          "metadata": {},
          "execution_count": 10
        }
      ]
    },
    {
      "cell_type": "code",
      "source": [
        "# Extract the centroids\n",
        "centroids = model_kmeans.cluster_centers_\n",
        "labels = model_kmeans.labels_"
      ],
      "metadata": {
        "id": "WPDFnRoT98M4"
      },
<<<<<<< HEAD
      "execution_count": 12,
=======
      "execution_count": null,
>>>>>>> 43924e48bc09ae991eb9eca717e78ab85e940c6e
      "outputs": []
    },
    {
      "cell_type": "markdown",
      "source": [
        "### Visualize the Clusters"
      ],
      "metadata": {
        "id": "w5WkbLqC5POL"
      }
    },
    {
      "cell_type": "code",
      "source": [
        "features_standardized_df = pd.DataFrame(features_standardized, columns=['petal length (cm)', 'petal width (cm)'])"
      ],
      "metadata": {
        "id": "v3gYCe_S_emP"
      },
<<<<<<< HEAD
      "execution_count": 15,
=======
      "execution_count": null,
>>>>>>> 43924e48bc09ae991eb9eca717e78ab85e940c6e
      "outputs": []
    },
    {
      "cell_type": "code",
      "source": [
        "label_colors = np.array(['r','g','b'])\n",
        "\n",
        "plt.scatter(\n",
        "       features_standardized_df['petal length (cm)'],\n",
        "       features_standardized_df['petal width (cm)'],\n",
        "       c=label_colors[labels]\n",
        ")\n",
        "\n",
        "plt.scatter(\n",
        "    centroids[:, 0],\n",
        "    centroids[:, 1],\n",
        "    s=300,\n",
        "    marker='x',\n",
        "    c='k'\n",
        ")\n",
        "\n",
        "plt.xlabel('Petal length (cm)')\n",
        "plt.ylabel('Petal width (cm)')"
      ],
      "metadata": {
        "colab": {
          "base_uri": "https://localhost:8080/",
          "height": 297
        },
        "id": "lw8gLGuW5SV-",
        "outputId": "de653fd3-072f-4596-9e3a-0560cbf16a7e"
      },
<<<<<<< HEAD
      "execution_count": 16,
=======
      "execution_count": null,
>>>>>>> 43924e48bc09ae991eb9eca717e78ab85e940c6e
      "outputs": [
        {
          "output_type": "execute_result",
          "data": {
            "text/plain": [
              "Text(0, 0.5, 'Petal width (cm)')"
            ]
          },
          "metadata": {},
          "execution_count": 16
        },
        {
          "output_type": "display_data",
          "data": {
            "text/plain": [
              "<Figure size 432x288 with 1 Axes>"
            ],
            "image/png": "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\n"
          },
          "metadata": {
            "needs_background": "light"
          }
        }
      ]
    },
    {
      "cell_type": "code",
      "source": [
        "# Using Elbow-Method to find optimal\n",
        "# number of clusters\n",
        "distorsions = []\n",
        "for k in range(2, 10):\n",
        "    kmeans = KMeans(n_clusters=k)\n",
        "    kmeans.fit(features_standardized)\n",
        "    distorsions.append(kmeans.inertia_)\n",
        "\n",
        "fig = plt.figure(figsize=(15, 5))\n",
        "plt.plot(range(2, 10), distorsions)\n",
        "plt.grid(True)\n",
        "plt.title('Elbow curve')"
      ],
      "metadata": {
        "colab": {
          "base_uri": "https://localhost:8080/",
          "height": 354
        },
        "id": "BC8TLVv0JxVx",
        "outputId": "47a4500a-fb09-4560-91a7-c0dc4fb3d865"
      },
<<<<<<< HEAD
      "execution_count": 18,
=======
      "execution_count": null,
>>>>>>> 43924e48bc09ae991eb9eca717e78ab85e940c6e
      "outputs": [
        {
          "output_type": "execute_result",
          "data": {
            "text/plain": [
              "Text(0.5, 1.0, 'Elbow curve')"
            ]
          },
          "metadata": {},
          "execution_count": 18
        },
        {
          "output_type": "display_data",
          "data": {
            "text/plain": [
              "<Figure size 1080x360 with 1 Axes>"
            ],
            "image/png": "iVBORw0KGgoAAAANSUhEUgAAA2cAAAE/CAYAAADCCbvWAAAABHNCSVQICAgIfAhkiAAAAAlwSFlzAAALEgAACxIB0t1+/AAAADh0RVh0U29mdHdhcmUAbWF0cGxvdGxpYiB2ZXJzaW9uMy4yLjIsIGh0dHA6Ly9tYXRwbG90bGliLm9yZy+WH4yJAAAgAElEQVR4nO3dd3xU553v8e9vZjTqEqggOgJElx0Xgm1wAfcOyU3fZJ2b4rvZbDZxNsXJ2nHNbsreJJvN3eK1s3F2k5DETsC9G9uAG7jSDKKZDhJNXRrpuX/MkTSAKkg6czSf9+ul18yZc2bmi5+XbX15nnnGnHMCAAAAAPgr5HcAAAAAAADlDAAAAACSAuUMAAAAAJIA5QwAAAAAkgDlDAAAAACSAOUMAAAAAJIA5QwA4Bsz+6yZLU84dmZW5mcmAAD8QjkDAAwoM9tmZvVmVpPw8wu/cwEAkGwifgcAAKSE65xzz/gdYqCYWcQ5F/M7BwAg2Jg5AwAkm6vNbIuZVZrZj80sJElmFjKzW8xsu5ntN7Nfm1m+d+5+M/s77/4Yb3nkl73jyWZ2sO11jmdmXzSz9WZWbWbrzOws7/Fjllia2a/M7G7v/nwz22lm3zazvZL+y3uNaxOuj5jZgYTXO9fMVprZYTN728zmD8Q/PABAcFHOAADJ5kOSZks6S9JCSZ/zHv+s97NA0iRJOZLalke+IGm+d/8iSVskXZhw/JJzrvX4NzKzj0q6XdJfSsqTdL2kql7mHCmpQNIESTdK+p2kTyacv0JSpXPuDTMbI+lRSXd7z/mGpAfNrLiX7wUASAGUMwDAYFjizRi1/Xyxm2t/6Jw76Jx7X9LP1FF4/kLST5xzW5xzNZK+I+kTZhZRvJyd782OXSjpR5Lmec+7yDvfmS9I+pFz7nUXV+Gc297LP1OrpNucc43OuXpJv5V0vZlleec/pXhhk6RPS3rMOfeYc67VOfe0pFWSru7lewEAUgDlDAAwGBY554Yl/PxnN9fuSLi/XdJo7/5o7zjxXERSiXNus6RaSWdIukDSI5J2m9k0dV/Oxkna3Oc/TdwB51xD24FzrkLSeknXeQXtesULmxSfXftoYkGVdL6kUSf53gCAIYgNQQAAyWacpLXe/fGSdnv3dytecpRwLiZpn3f8gqSPSIo653aZ2QuSbpA0XNJbXbzXDkmTuzhXJykr4XikpJ0Jx66T57QtbQxJWucVtrb3+W/nXHczhgCAFMfMGQAg2XzTzIab2ThJX5X0e+/x30m6ycwmmlmOpH+Q9PuEXRJfkPQ3kl70jpd5x8udcy1dvNe9kr5hZmdbXJmZtRXAtyR9yszCZnal4jNwPVks6XJJX1LHrJkk/Y/iM2pXeK+X4W0qMrYXrwkASBGUMwDAYHj4uO85+3M31y6VtFrxcvSopPu8x38p6b8VL19bJTVI+krC816QlKuOcrZc8ZmvF9UF59wfJX1f8SJVLWmJ4ht2SPFieJ2kw4p/3m1JT39I59weSS9LmquOUinn3A7FNzf5rqQDis+kfVP8fxgAkMCc62xVBgAAAABgMPE3dgAAAACQBChnAAAAAJAEKGcAAAAAkAQoZwAAAACQBChnAAAAAJAEBvVLqIuKilxpaelgvmWv1NbWKjs72+8Y6APGLFgYr+BhzIKHMQsWxit4GLPgSdYxW716daVzrrizc4NazkpLS7Vq1arBfMteWbZsmebPn+93DPQBYxYsjFfwMGbBw5gFC+MVPIxZ8CTrmJnZ9q7OsawRAAAAAJIA5QwAAAAAkgDlDAAAAACSAOUMAAAAAJIA5QwAAAAAkgDlDAAAAACSAOUMAAAAAJIA5QwAAAAAkgDlDAAAAACSQMqXs2fW7VPF4Ra/YwAAAABIcSldzhqaW3TbQ2v1qzWNirW0+h0HAAAAQApL6XKWkRbWrdfO1M4ap1+t3OZ3HAAAAAApLKXLmSRdMatEpxeF9bNnNmnf0Qa/4wAAAABIUSlfzsxMn54ZVVNLq+5+dL3fcQAAAACkqJQvZ5I0IiukL100WQ+/vVsrKir9jgMAAAAgBVHOPF+aP1njC7L0vaVr1BRjcxAAAAAAg4ty5slIC+uO62dp84Fa3bt8i99xAAAAAKQYylmCBdNH6PKZJfqXZyu063C933EAAAAApBDK2XG+d91MOTnd+fBav6MAAAAASCGUs+OMHZ6lr1w8RU+u3afn39vvdxwAAAAAKYJy1okvXjBJk4qzdftDa9XQ3OJ3HAAAAAApgHLWiWgkpLsWlmt7VZ3+/YXNfscBAAAAkAIoZ12YV1aka08fpX9dtlnbq2r9jgMAAABgiKOcdeOWa2YqLWS67aG1cs75HQcAAADAEEY568bI/AzddNlULXvvgJ5cu8/vOAAAAACGMMpZD26YW6ppJbm68+G1qmuK+R0HAAAAwBBFOetBWjikuxaVa/eRBv3LcxV+xwEAAAAwRPWqnJnZNjN718zeMrNV3mMFZva0mW3ybocPbFT/zJlYoA+fNUb3vrRFFftr/I4DAAAAYAjqy8zZAufcGc652d7xzZKedc5NkfSsdzxkfeeqGcpIC+t7S9ewOQgAAACAfncqyxoXSrrfu3+/pEWnHid5Feem65tXTNPKzVV6+J09fscBAAAAMMT0tpw5SU+Z2Wozu9F7rMQ519ZS9koq6fd0SeYvzpmg8jF5uvuRdapuaPY7DgAAAIAhxHqzRM/MxjjndpnZCElPS/qKpIecc8MSrjnknDvhc2dembtRkkpKSs5evHhxv4XvLzU1NcrJyenVtZsPt+juVxp0+YSIPjkjfYCToSt9GTP4j/EKHsYseBizYGG8gocxC55kHbMFCxasTvio2DEivXkB59wu73a/mf1Z0hxJ+8xslHNuj5mNkrS/i+feI+keSZo9e7abP3/+SfwRBtayZcvU21zzJVW0vqM/rNqpmz50lqaPzBvIaOhCX8YM/mO8gocxCx7GLFgYr+BhzIIniGPW47JGM8s2s9y2+5Iul7RG0kOSbvAuu0HS0oEKmWy+dcV05WVEdOsSNgcBAAAA0D9685mzEknLzextSa9JetQ594SkH0i6zMw2SbrUO04Jw7Oj+vaV0/X6tkN68I1dfscBAAAAMAT0uKzRObdF0gc6ebxK0iUDESoIPjZ7nH6/aof+8bH1umxGifKz0vyOBAAAACDATmUr/ZQWCpnuWliuQ3VN+qen3vM7DgAAAICAo5ydgvIx+frMuRP0P69u17s7j/gdBwAAAECAUc5O0dcvn6bC7HTdsnSNWlvZHAQAAADAyaGcnaL8zDR99+rpenvHYS1+fYffcQAAAAAEFOWsH3zozDGaM7FAP3pygw7WNvkdBwAAAEAAUc76gVl8c5Dqhph++PgGv+MAAAAACCDKWT+ZNjJXn5tXqt+v2qHV2w/5HQcAAABAwFDO+tFXL52qkXkZunXJGsVaWv2OAwAAACBAKGf9KCc9oluvnal1e47qf17Z7nccAAAAAAFCOetnV582UhdMKdL/fWqj9lc3+B0HAAAAQEBQzvqZmemO62epMdaqf3yMzUEAAAAA9A7lbABMKs7RjRdO0p/f3KVXtlT5HQcAAABAAFDOBsiXF5RpzLBMfW/pGjWzOQgAAACAHlDOBkhmNKzbr5+ljftq9F8rtvodBwAAAECSo5wNoMtmluiS6SP0s2c2ac+Rer/jAAAAAEhilLMBdvv1s9TS6nT3I+v9jgIAAAAgiVHOBti4gix9eUGZHn13j17ceMDvOAAAAACSFOVsENx44SSVFmbptofWqjHW4nccAAAAAEmIcjYIMtLCumNhubZW1uo/X9zidxwAAAAASYhyNkgumlqsq8pH6hfPV2jHwTq/4wAAAABIMpSzQXTrtTMVMtMdD6/zOwoAAACAJEM5G0Sjh2Xqby+ZomfW79Oz6/f5HQcAAABAEqGcDbLPzZuoshE5uv3htWpoZnMQAAAAAHGUs0EWjYR018Jy7ThYr399vsLvOAAAAACSBOXMB+dNLtTCM0br31/Yoq2VtX7HAQAAAJAEKGc++furZyg9EtJtD62Vc87vOAAAAAB8RjnzyYi8DN102VS9uPGAnliz1+84AAAAAHxGOfPRX543QTNG5enOR9aptjHmdxwAAAAAPqKc+SgSDunuRbO050iDfv7cJr/jAAAAAPAR5cxnZ08o0EfPHqv7XtqqTfuq/Y4DAAAAwCeUsyRw81XTlZ0e0a1L17A5CAAAAJCiKGdJoDAnXd+8Yppe2XJQD7292+84AAAAAHxAOUsSn5wzXqePzdfdj67X0YZmv+MAAAAAGGSUsyQRDpnuXlSuyppG/fTpjX7HAQAAADDIKGdJ5PSxw/SpOeN1/8ptWrf7qN9xAAAAAAwiylmS+eYV0zQsK6pbl65RayubgwAAAACpgnKWZIZlRXXzVdO1evshPfDGTr/jAAAAABgklLMk9JGzxursCcP1g8c36HBdk99xAAAAAAwCylkSCoVMdy0s1+G6Jv3oyff8jgMAAABgEFDOktTM0Xm6YW6pfvfa+3p7x2G/4wAAAAAYYJSzJHbTZVNVlJOuW5asUQubgwAAAABDWq/LmZmFzexNM3vEO55oZq+aWYWZ/d7MogMXMzXlZaTplmtm6N1dR/Tb1973Ow4AAACAAdSXmbOvSlqfcPxDST91zpVJOiTp8/0ZDHHXf2C0zptUqB8/sUGVNY1+xwEAAAAwQHpVzsxsrKRrJN3rHZukiyU94F1yv6RFAxEw1ZmZ7lw4S3VNLfrB4xv8jgMAAABggPR25uxnkr4lqdU7LpR02DkX8453ShrTz9ngmVKSq89fMFEPrN6pVdsO+h0HAAAAwAAw57rfaMLMrpV0tXPur81svqRvSPqspFe8JY0ys3GSHnfOlXfy/Bsl3ShJJSUlZy9evLhf/wD9oaamRjk5OX7H6FZDzOm7y+uVnWa6/bwMhUPmdyRfBWHM0IHxCh7GLHgYs2BhvIKHMQueZB2zBQsWrHbOze7sXKQXz58n6Xozu1pShqQ8Sf8saZiZRbzZs7GSdnX2ZOfcPZLukaTZs2e7+fPn9/1PMMCWLVumZMx1PFeyR1/6zRvaFi3V58+f6HccXwVlzBDHeAUPYxY8jFmwMF7Bw5gFTxDHrMdljc657zjnxjrnSiV9QtJzzrm/kPS8pI94l90gaemApYQk6crykbpwarF++vRG7Tva4HccAAAAAP3oVL7n7NuSvm5mFYp/Bu2+/omErpiZ7rh+lppirfr+o+t7fgIAAACAwOhTOXPOLXPOXevd3+Kcm+OcK3POfdQ5xz7vg2BiUbb+6qJJeujt3VpZUel3HAAAAAD95FRmzuCTv15QpnEFmbp16Ro1xVp7fgIAAACApEc5C6CMtLBuv26WNh+o1X3Lt/odBwAAAEA/oJwF1CUzSnTZzBL9/NlN2nW43u84AAAAAE4R5SzAbrtuppyc7np4nd9RAAAAAJwiylmAjR2epa9cPEVPrN2rZe/t9zsOAAAAgFNAOQu4L1wwUZOKsnXbQ2vV0NzidxwAAAAAJ4lyFnDpkbDuXFiu7VV1+o8XtvgdBwAAAMBJopwNAedPKdI1p4/Svy6r0PtVdX7HAQAAAHASKGdDxK3XzFQkZLr94bVyzvkdBwAAAEAfUc6GiJH5GfrapVP13Ib9enrdPr/jAAAAAOgjytkQ8tl5pZpakqM7Hl6n+iY2BwEAAACChHI2hKSFQ7prYbl2Ha7XL57f5HccAAAAAH1AORtizplUqA+fOUb3vLhFmw/U+B0HAAAAQC9Rzoag71w9QxlpYd22lM1BAAAAgKCgnA1Bxbnp+sbl07S8olKPvrvH7zgAAAAAeoFyNkR9+twJmjU6T3c9sk41jTG/4wAAAADoAeVsiAqHTHctKte+o43652c2+h0HAAAAQA8oZ0PYWeOH6xMfHKdfrtim9/ZW+x0HAAAAQDcoZ0Pct66crtyMiG5duobNQQAAAIAkRjkb4gqyo/r2ldP12taD+vObu/yOAwAAAKALlLMU8PHZ43TGuGH6h8fW60h9s99xAAAAAHSCcpYCQiHT3YvKdbC2ST956j2/4wAAAADoBOUsRZSPydenz52g/35lu9bsOuJ3HAAAAADHoZylkL+7fJoKsqO6ZckatbayOQgAAACQTChnKSQ/M03fuWqG3tpxWH9YtcPvOAAAAAASUM5SzIfPGqM5pQX64RMbdKi2ye84AAAAADyUsxRjZrpz0SwdbYjpR09u8DsOAAAAAA/lLAVNH5mn/z23VItf36E33z/kdxwAAAAAopylrK9dNlUjctN169I1amFzEAAAAMB3lLMUlZMe0S3XzNSaXUf1m1e3+x0HAAAASHmUsxR27emjdH5ZkX785Hs6UN3odxwAAAAgpVHOUpiZ6Y6Fs9TQ3KJ/fHy933EAAACAlEY5S3GTi3P0xQsm6U9v7NJrWw/6HQcAAABIWZQz6G8uLtOYYZm6dckaNbe0+h0HAAAASEmUMygrGtH3rpup9/ZV6/6V2/yOAwAAAKQkyhkkSZfPLNGCacX66dMbtfdIg99xAAAAgJRDOYOk+OYgt18/S82tTnc/us7vOAAAAEDKoZyh3YTCbP31/Ml65J09Wr6p0u84AAAAQEqhnOEYf3XRZE0ozNL3lq5RY6zF7zgAAABAyqCc4RgZaWHdfv0sbams1b0vbfU7DgAAAJAyKGc4wYJpI3TFrBL9y3ObtONgnd9xAAAAgJTQYzkzswwze83M3jaztWZ2h/f4RDN71cwqzOz3ZhYd+LgYLN+7bpZMpjsfYXMQAAAAYDD0ZuasUdLFzrkPSDpD0pVmdq6kH0r6qXOuTNIhSZ8fuJgYbGOGZeorl5Tp6XX79NyGfX7HAQAAAIa8HsuZi6vxDtO8HyfpYkkPeI/fL2nRgCSEb75w/iRNLs7WbQ+tVUMzm4MAAAAAA8mccz1fZBaWtFpSmaT/J+nHkl7xZs1kZuMkPe6cK+/kuTdKulGSSkpKzl68eHH/pe8nNTU1ysnJ8TtGUlpX1aIfvd6ghZPT9KEpybNylTELFsYreBiz4GHMgoXxCh7GLHiSdcwWLFiw2jk3u7Nzkd68gHOuRdIZZjZM0p8lTe/tmzvn7pF0jyTNnj3bzZ8/v7dPHTTLli1TMuZKBvMlrW96U4+v3aubPvRBlRZl+x1JEmMWNIxX8DBmwcOYBQvjFTyMWfAEccz6tFujc+6wpOclnSdpmJm1lbuxknb1czYkiVuumaFoOKTbHlqr3sy0AgAAAOi73uzWWOzNmMnMMiVdJmm94iXtI95lN0haOlAh4a+SvAzddNlUvbDxgJ5cu9fvOAAAAMCQ1JuZs1GSnjezdyS9Lulp59wjkr4t6etmViGpUNJ9AxcTfrvhvAmaPjJXdz68TnVNMb/jAAAAAENOb3ZrfMc5d6Zz7nTnXLlz7k7v8S3OuTnOuTLn3Eedc40DHxd+iYRDuntRuXYfadDPn63wOw4AAAAw5PTpM2dIbbNLC/SRs8fq3pe2qGJ/td9xAAAAgCGFcoY+ufmq6cqKhnXrEjYHAQAAAPoT5Qx9UpSTrm9eOV0vb6nSQ2/v9jsOAAAAMGRQztBnn5ozXqePzdf3H12v6oZmv+MAAAAAQwLlDH0WDpnuWliuAzWN+unTm/yOAwAAAAwJlDOclA+MG6ZPzhmv+1/epvV7jvodBwAAAAg8yhlO2reumKb8zDTdumSNWlvZHAQAAAA4FZQznLRhWVHdfOV0rdp+SA++sdPvOAAAAECgUc5wSj5y9lidNX6YfvD4Bh2pY3MQAAAA4GRRznBKQiHTXYvKdaiuST9+aoPfcQAAAIDAopzhlM0ana+/PK9Uv3n1fb2z87DfcQAAAIBAopyhX3z98qkqyknXrUvWqIXNQQAAAIA+o5yhX+RlpOnvr56ht3ce0eLX3/c7DgAAABA4lDP0m4VnjNa5kwr0oyfeU1VNo99xAAAAgEChnKHfmJnuWliu2saYfvgEm4MAAAAAfUE5Q7+aUpKrz58/UX9YtVOrtx/0Ow4AAAAQGJQz9Lu/vWSKRuVn6JYlaxVrafU7DgAAABAIlDP0u+z0iG69dqbW7zmq/35lu99xAAAAgECgnGFAXFU+UhdMKdJPntqo/Ucb/I4DAAAAJD3KGQaEmenOheVqjLXqHx5b73ccAAAAIOlRzjBgJhZl6/9cNElL3tqtlzdX+R0HAAAASGqUMwyov55fprHDM/W9pWvUzOYgAAAAQJcoZxhQmdGwbr9uljbtr9Evl2/1Ow4AAACQtChnGHCXzizRpTNG6J+f3aQ9R+r9jgMAAAAkJcoZBsVt181SS6vTXY+s8zsKAAAAkJQoZxgU4wqy9DcLyvTYu3v14sYDfscBAAAAkg7lDIPmxosmaWJRtm57aK0aYy1+xwEAAACSCuUMgyY9EtYd18/S1spa3fPCFr/jAAAAAEmFcoZBdeHUYl192kj94vkK7ThY53ccAAAAIGlQzjDobr12psIh0x0Pr/U7CgAAAJA0KGcYdKPyM/XVS6bomfX79cy6fX7HAQAAAJIC5Qy++Nz5EzVlRI5uf3it6pvYHAQAAACgnMEXaeGQ7lxYrp2H6vWvyyr8jgMAAAD4jnIG35w3uVCLzhit/3hhi7ZW1vodBwAAAPAV5Qy++u41M5QeCel7S9fIOed3HAAAAMA3lDP4akRuhr5++VS9tKlSj6/Z63ccAAAAwDeUM/juM+dO0MxRebrz4XWqbYz5HQcAAADwBeUMvouEQ7prUbn2Hm3Qz5/d5HccAAAAwBeUMySFsycM18dmj9V9y7dq475qv+MAAAAAg45yhqTx7SunKzs9oluWsDkIAAAAUk+P5czMxpnZ82a2zszWmtlXvccLzOxpM9vk3Q4f+LgYygpz0vWtK6fpta0HteStXX7HAQAAAAZVb2bOYpL+zjk3U9K5kr5sZjMl3SzpWefcFEnPesfAKfnEB8frA2Pz9f1HN+hIfbPfcQAAAIBB02M5c87tcc694d2vlrRe0hhJCyXd7112v6RFAxUSqSMcMt296DRV1Tbqp09v9DsOAAAAMGj69JkzMyuVdKakVyWVOOf2eKf2Sirp12RIWaeNzdenz5mgX7+8TWt2HfE7DgAAADAorLcbL5hZjqQXJH3fOfcnMzvsnBuWcP6Qc+6Ez52Z2Y2SbpSkkpKSsxcvXtw/yftRTU2NcnJy/I6BBLXNTje/VKcRmSH9/bkZCpkdc54xCxbGK3gYs+BhzIKF8Qoexix4knXMFixYsNo5N7uzc5HevICZpUl6UNJvnHN/8h7eZ2ajnHN7zGyUpP2dPdc5d4+keyRp9uzZbv78+X3NP+CWLVumZMyV6uoLduobf3xbB3Im6+MfHH/MOcYsWBiv4GHMgocxCxbGK3gYs+AJ4pj1ZrdGk3SfpPXOuZ8knHpI0g3e/RskLe3/eEhl/+usMfpg6XD94PENOlTb5HccAAAAYED15jNn8yR9RtLFZvaW93O1pB9IuszMNkm61DsG+o2Z6a5F5TraENOPnnzP7zgAAADAgOpxWaNzbrkk6+L0Jf0bBzjW9JF5+uzcUv1yxVZ9/IPjdMa4YT0/CQAAAAigPu3WCPjha5dOUXFOum5Z8q5aWnu3gQ0AAAAQNJQzJL3cjDTdcu1Mrdl1VL99dbvfcQAAAIABQTlDIFx3+ijNnVyoHz/5niprGv2OAwAAAPQ7yhkCwcx058Jy1Te36B8f2+B3HAAAAKDf9ep7zoBkUDYiR1+4YJL+bdlmbSsJa0f6Ns0rK9LEomyZdbVnDQAAABAMlDMEyt9ePEU1DTE99tb7unXpWknSqPwMzZ1cpHllhZpXVqSSvAyfUwIAAAB9RzlDoGRGw7prUbkuzj+giafN0fKKSq3cXKnnNuzTg2/slCRNLs7W+WVFmltWpHMnFSo/M83n1AAAAEDPKGcIJDNTaVG2Souy9elzJ6i11WndnqNaublSKyqq9IdVO3X/y9sVMum0MfmaW1ak88uKdPaE4cpIC/sdHwAAADgB5QxDQihkKh+Tr/Ix+brxwslqirXqzfcPacXmKq2sqNR/vrhF/7Zss6KRkGZPGK55ZUWaO7lQp43JVyTMvjgAAADwH+UMQ1I0EtI5kwp1zqRCff2yqappjOn1rQe1vKJSKyoq9eMn35Mk5WZEdO6kQs2bHP+8WtmIHDYXAQAAgC8oZ0gJOekRLZg+Qgumj5AkVdY06uXNVVq5uVLLKyr19Lp9kqQRuema6xW1eWVFGj0s08/YAAAASCGUM6Skopx0XfeB0bruA6MlSTsO1mlFRaVWbK7SS5sqteSt3ZKkiUXZ7WXtvEmFGp4d9TM2AAAAhjDKGSBpXEGWPjFnvD4xZ7xaW53e21etFRWVWrm5Skve3KXfvPq+zKRZo/M0b3J8J8g5pQXKjLK5CAAAAPoH5Qw4TihkmjEqTzNG5ekLF0xSc0ur3tl5WCsqqrS8olK/XLFV//HiFqWFTWeNH+4tgSzU6WOHKY3NRQAAAHCSKGdAD9LCIZ09oUBnTyjQ314yRXVNMb2+7ZBWVlRqxeZK/fSZjfrJ01J2NKxzJhW2l7VpJblsLgIAAIBeo5wBfZQVjeiiqcW6aGqxJOlQbZNe3lLVvgzyuQ37JUlFOVGdN7mofSfIcQVZfsYGAABAkqOcAadoeHZUV582SlefNkqStOtwfbyoeRuMPPx2fHOR8QVZmldWqLmT49+xVpiT7mdsAAAAJBnKGdDPxgzL1Mdmj9PHZo+Tc04V+2vad4J85O09+t1rOyRJ00fm6nxvy/45EwuUnc6/jgAAAKmM3waBAWRmmlKSqyklufrsvImKtbTq3V1HtHJzfBnkr1/ZrnuXb1UkZDpj3DDNLYsvgzxz/HBFI2wuAgAAkEooZ8AgioRDOnP8cJ05fri+vKBMDc0tWrXtkFZsji+D/MVzm/TzZzcpMy2sORML2pdBzhyVp1CIzUUAAACGMsoZ4KOMtLDOn1Kk86cUSZKO1DfrlS1VWllRqeUVlfqHxw5IkoZnpcU/q1ZWqHmTizShMIudIAEAAIYYyhmQRPIz03TFrJG6YtZISdLeIw1aublSKyqqtHJzpR59d4+k+Ofa5k4u1PlTinTe5NCdK7wAABPISURBVEKNyM3wMzYAAAD6AeUMSGIj8zP04bPG6sNnjZVzTlsra+Obi1RU6al1+/TH1TslSVNLcjR3cnxzkXMmFSgvI83n5AAAAOgryhkQEGamScU5mlSco8+cV6qWVqd1u49qeUWlVm6u1OLX39evVm5TOGQ6fWy+5nnLIM8aP1wZaWG/4wMAAKAHlDMgoMIh02lj83Xa2Hx9af5kNcZa9Mb2w94yyEr92wub9YvnK5QeCemDpQWaV1akeWWFmjU6X2E2FwEAAEg6lDNgiEiPhHXe5EKdN7lQf3f5NFU3NOvVLQe9nSCr9MMnNkiKf67t3EltZa1Ik4qy2VwEAAAgCVDOgCEqNyNNl84s0aUzSyRJ+6sb9LL3/WorKqr05Np9kqSReRntu0DOKyvSyHw2FwEAAPAD5QxIESNyM7TwjDFaeMYYOef0/sE6raiIl7XnN+zXn97YJUmaXJyteWVFmju5SOdNKlR+FpuLAAAADAbKGZCCzEwTCrM1oTBbnzpnvFpbndbvPaqVFVVasblSD6zeqV+/vF0hk8rH5Gvu5CKdX1ak2aVsLgIAADBQKGcAFAqZZo3O16zR+frihZPUFGvVWzsOa4W3E+S9L23Rv7+wWdFISGePH655ZYWaW1ak08fkKxIO+R0fAABgSKCcAThBNBLSnIkFmjOxQDddNlW1jTG9tu2gVmyq1IrNVfqnpzZKT21UbnpE50wq1LyyQs0rK9KUETlsLgIAAHCSKGcAepSdHtGCaSO0YNoISVJVTaNe3lKlFRVVWrm5Us+sj28uUpybrnmT47Nq88qKNGZYpp+xAQAAAoVyBqDPCnPSde3po3Xt6aMlSTsO1nnfr1al5RWVWvLWbklSaWGW5pYVKbc+pqJdRzShMEu5GWwwAgAA0BnKGYBTNq4gSx8vGK+Pf3C8nHPauK/G27K/Ug+9tVs1jTH9xzvLJUlFOVGVepuRTCzKUmlRtkoLs1ValK2cdP6TBAAAUhe/CQHoV2amaSNzNW1krj53/kQ1t7Rq8WPLVDxxhrZV1WlbZa22VtZqRUWlHnyj4ZjnFuWkq7QwXtgmFmVrQmEWxQ0AAKQMftsBMKDSwiGNyw1pfvmoE87VNcW0vapO26tqtbXSK25VtXpp0wE9sHrnMdcW5aTHZ9q8sha/jR9nU9wAAMAQwG80AHyTFY1oxqg8zRiVd8K5uqaYtlV6xa2qVtsqa7Wtqk4vbDygPx5X3Ipz0zWx0JtpO27WjeIGAACCgt9aACSlrGhEM0fnaeboE4tbbWN8xm1bVXyJ5PaqWm2rrNOyjQd04LjiNiI3vWOWrW3GzTvOivKfQAAAkDz4zQRA4GSnd1/ctnllbVv7jFutnn/vgA6s6qS4FWXHZ92KsjTRWzI5oZDiBgAABh+/fQAYUrLTI5o1Ol+zRuefcK6mMaZtlbUnzLo9u2G/Kmsaj7m2JC89YZYtvrPkBO84MxoerD8OAABIIZQzACkjJz2i8jH5Kh9zYnGrbmhuL21tn2/bVlmrZzfsU2VN0zHXjszL0ITCLE0satucJL5kckIBxQ0AAJy8HsuZmf1S0rWS9jvnyr3HCiT9XlKppG2SPuacOzRwMQFgYOVmpPVY3Npm2rZ6SyafWd95cSstyvI2JYnPtLVtUJKRRnEDAABd683M2a8k/ULSrxMeu1nSs865H5jZzd7xt/s/HgD4r7vidrShWdsTPt+2tSq+bPKptftUVXtscRuVnzDj1v5F3BQ3AAAQ12M5c869aGalxz28UNJ87/79kpaJcgYgBeVlpOm0sfk6bWzXxW1rwsYk2ypr9eTafTrYSXHr+A63jq8EGF9AcQMAIFWc7GfOSpxze7z7eyWV9FMeABgyuituR+qbvSWS3gYl3qzbk2v3HlPczKRReRneLpLZx3wRN8UNAIChxZxzPV8Unzl7JOEzZ4edc8MSzh9yzg3v4rk3SrpRkkpKSs5evHhxP8TuXzU1NcrJyfE7BvqAMQsWxqtvapud9tW1al+t0/66Vu1NuF/T3HGdSSrIMI3IMpVkh1SSFVKJd7840xQN20lnYMyChzELFsYreBiz4EnWMVuwYMFq59zszs6d7MzZPjMb5ZzbY2ajJO3v6kLn3D2S7pGk2bNnu/nz55/kWw6cZcuWKRlzoWuMWbAwXv3nSF2z97m2+Kxb286Sb1XV6vCOY2fcRudnxr98+7ivBBhXkKX0SPczboxZ8DBmwcJ4BQ9jFjxBHLOTLWcPSbpB0g+826X9lggA0KX8rDSdkTVMZ4wbdsK5w3VN7V8B0L6zZFWdHnlnj47Ud0y5tRW3ts1I2jYoKe1lcQMAAAOjN1vp/07xzT+KzGynpNsUL2V/MLPPS9ou6WMDGRIA0LNhWVGdkRXtsrhtbd+UpGN3yYff3q2jDbH260ImjR6WqWw16o+73lBRTlRFOekqyk2P33rHxbnpfN4NAIB+1pvdGj/ZxalL+jkLAGCADMuK6szxUZ05/sSPBx+qbUpYKhmfedvw/l6t33NUB2oaVZ1Q3hLlpEdU2Fbe2m/jRa74uOPsaFhmJ/8ZOAAAUsHJLmsEAAwRw7OjGp4d1VkJxS1xnX5Dc4uqaptUWd2oypq2nyYdqG5sf3zLgVq9tvWgDtU1d/oeGWmhjrKWk67i3Ogxx20lrzgnXXmZEYocACAlUc4AAN3KSAtrzLBMjRmW2eO1zS2tOlgbL25tJa6ypjGh2DVp56E6vbXjkA7WNqm1kw2Do+HQiTNyCcsqixOOh2WmKRSiyAEAhgbKGQCg36SFQyrJy1BJXkaP17a0Oh2qaytvTe2zcgcSjvdXN2rdnqOqqmlSrJMmFw6ZCrOj7bNvHcXt2Jm5otyoCrPTFabIAQCSGOUMAOCLcMjay5NGdn9ta6vTkfrmjvJW06SqtiWWCcVuy4FaHahpVFOs9YTXMJMKsqLtZe2Y8pYTjZe67I4iF42EBuhPDgBA5yhnAICkFwpZ+2fjppTkdnutc07VjTFvKWVHcausbtSBhOM33z+syppG1TW1dPo6+ZlpxyyrLO5k45O2Y3auBAD0B8oZAGBIMTPlZaQpLyNNk4p7vr6uKabK6iZvRu7E2bjKmkat231UldWNqm7sfOfK3PRIe1krzD5xZi5xA5TsdP7XCwDoHP+HAACktKxoROMLIxpfmNXjtQ3NLe0bm1Qdt3NlW5GrOFCjV7Y26nAXO1dmpoVPLG9tyyqP270yL4OdKwEglVDOAADopYy0sMYOz9LY4T0XuaZYfOfKjk1OOpZZVnmlbsfBOr35/iFV1TbJdbZzZSSkouzoCV8Cnrisstg7buls60sAQKBQzgAAGADRSEgj8zM0Mr93O1e2Fbnjl1a2bYCy90iD1uw6oqrapi6LWObzTyg7PaLcjIhy0uM/ice9PZfFl4YDgC8oZwAA+CwcMhXnpqs4N73HazvbubKyulHvbtik4tHjVN0QU01jTDUNzaptbNGuw/WqaWxWjfd4c0vPM2xmUk40opxelLqchMc7O5ceYbMUAOgtyhkAAAHS1c6Vy2LbNX/+jB6f3xhrUU1DTLWNLapOKG3tPw0x1TbGVO3dTzy390jDMcedLcU8XlrY2otadjSxuKUpJz3slbo0ZaeHvXNpXuELd9yPRpSdHlYkzNcbABjaKGcAAKSQ9EhY6TlhFeac2us451TX1NJ5keuk8CXer6xp0raquvbj+ubOv87geJlp4RNm6o457uU5lm0CSFaUMwAA0GdmpmxvGeOIU3ytWEuraptaEopcs2oaW9rvV3szffHHY965+P0dB+tU2xTr07LNkEnZXZW4PhY+lm0C6E+UMwAA4KtIOKT8zJDyM9NO+bXalm3WNMa8Utcxa5d43Nm59mWbDTHVNPV92WZOesJSzYw0r8QlLM9MuL/pUItG7D6qzGhYmWnh9tu0sDGrB6QwyhkAABgyOpZt9ry5SndaW53qm1s6LXU1jZ2XvGpvpq9t2WbbcUNza+dv8upLJzwUDpmy0sLKiIaV5RW2jLSE+9GwstrKXFux885neI+3308LKysa6Sh/3vXhEOUPSFaUMwAAgOOEQh3LNkvyTu21Yi2t7RuwtC3PXPHaG5o6Y5bqm1tU39SquqaYGppbVNfUovrmlo773nF9U4uO1De336/3zjfFuih+3YhGQieUuiyvvB1TBBPuJ5a7E8pfNORdG/GeF2L2DzhJlDMAAIABFAmHlJ8VUn5Wx7LN6q0RzS8fdcqv3dLq2otcQ3NHaYsXuJjqm1q9QhfrKILNMTUkFLy259c0xnSguvGYAljf1KLYSXzBeeJSzRNu2wpewizgCUWwm1nAjGhI0TAFEEMT5QwAACCgwgkzfAOluaW1o/w1dTK719yihqYW1TXFVN/c2lEEE0uj97zDdU3ac1wprG9u6dXn+xKFQ9b57F43Sz47mx084fqEx/nqBviBcgYAAIAupfXjhi2dcc6pMdbaMVt33NLN+uOKXPz+ibOCbYVvf3Vz/H7CazSezPLPcEgZaSFv6WZYscZ6Fa5dofRISOlpYWV4t+mR+HXpkfj99EjYO/auSziXkdZxTXpaSBnebdu5aDikEJ8JTGmUMwAAAPjGzJThzYINH6D3aNvg5fglm8ff1rXPAh5XBJtbtXNPg3IyImqMtepIfbP2N8dLX6N32+Ddnswy0ETRcEexi98eW+I6yt9xhS/tJM8lvDZLRf1HOQMAAMCQFuqH5Z/Lli3T/Pnn9HhdrKU1XtpirWqMtaixuVUN3m1iievxXOJxc8f1h+uajrs2fr+huUWn2AsVjYSOK27HlbreFMUuzp0wy3jMbCPFsA3lDAAAAOgnkXBIkXBI2af2bQ4npa0YHl/cOpvh66koNnZSFGtrY8dd13HuVIthexnsciloJ0Wxm3PpkbAO1vR9OavfKGcAAADAENBRDAf3V3znnGKtrvdlsJNzjT3MKFY3xDqdUWyIdb2hzDUT0/SpQf0nceooZwAAAABOmpkpLWxKC4eU40MxbG5xnRa3De+sGtQs/YFyBgAAACCQzEzRiCkaCSn3uHP7Nwbv6xCClxgAAAAAhiDKGQAAAAAkAcoZAAAAACQByhkAAAAAJAHKGQAAAAAkAcoZAAAAACQByhkAAAAAJAHKGQAAAAAkAcoZAAAAACQByhkAAAAAJAFzzg3em5kdkLR90N6w94okVfodAn3CmAUL4xU8jFnwMGbBwngFD2MWPMk6ZhOcc8WdnRjUcpaszGyVc2623znQe4xZsDBewcOYBQ9jFiyMV/AwZsETxDFjWSMAAAAAJAHKGQAAAAAkAcpZ3D1+B0CfMWbBwngFD2MWPIxZsDBewcOYBU/gxozPnAEAAABAEmDmDAAAAACSQMqWMzMbZ2bPm9k6M1trZl/1OxO6Z2YZZvaamb3tjdkdfmdC75hZ2MzeNLNH/M6CnpnZNjN718zeMrNVfudB98xsmJk9YGYbzGy9mZ3ndyZ0zcymef9utf0cNbOv+Z0L3TOzm7zfPdaY2e/MLMPvTOiamX3VG6u1Qfv3K2WXNZrZKEmjnHNvmFmupNWSFjnn1vkcDV0wM5OU7ZyrMbM0ScslfdU594rP0dADM/u6pNmS8pxz1/qdB90zs22SZjvnkvG7YXAcM7tf0kvOuXvNLCopyzl32O9c6JmZhSXtknSOcy4ZvwcWksxsjOK/c8x0ztWb2R8kPeac+5W/ydAZMyuXtFjSHElNkp6Q9FfOuQpfg/VSys6cOef2OOfe8O5XS1ovaYy/qdAdF1fjHaZ5P6n5twsBYmZjJV0j6V6/swBDjZnlS7pQ0n2S5JxropgFyiWSNlPMAiEiKdPMIpKyJO32OQ+6NkPSq865OudcTNILkj7sc6ZeS9lylsjMSiWdKelVf5OgJ97yuLck7Zf0tHOOMUt+P5P0LUmtfgdBrzlJT5nZajO70e8w6NZESQck/Ze3dPheM8v2OxR67ROSfud3CHTPObdL0j9Jel/SHklHnHNP+ZsK3Vgj6QIzKzSzLElXSxrnc6ZeS/lyZmY5kh6U9DXn3FG/86B7zrkW59wZksZKmuNNXSNJmdm1kvY751b7nQV9cr5z7ixJV0n6spld6HcgdCki6SxJ/+acO1NSraSb/Y2E3vCWoF4v6Y9+Z0H3zGy4pIWK/2XIaEnZZvZpf1OhK8659ZJ+KOkpxZc0viWpxddQfZDS5cz73NKDkn7jnPuT33nQe96yneclXel3FnRrnqTrvc8wLZZ0sZn9j7+R0BPvb4nlnNsv6c+Kr9tHctopaWfCKoIHFC9rSH5XSXrDObfP7yDo0aWStjrnDjjnmiX9SdJcnzOhG865+5xzZzvnLpR0SNJGvzP1VsqWM29zifskrXfO/cTvPOiZmRWb2TDvfqakyyRt8DcVuuOc+45zbqxzrlTx5TvPOef428YkZmbZ3iZJ8pbHXa74EhEkIefcXkk7zGya99AlktjYKhg+KZY0BsX7ks41syzv98dLFN+rAEnKzEZ4t+MV/7zZb/1N1HsRvwP4aJ6kz0h61/sMkyR91zn3mI+Z0L1Rku73drcKSfqDc46t2YH+VSLpz/HfPxSR9Fvn3BP+RkIPviLpN94yuS2S/rfPedAD7y8+LpP0f/zOgp455141swckvSEpJulNSff4mwo9eNDMCiU1S/pykDZKStmt9AEAAAAgmaTsskYAAAAASCaUMwAAAABIApQzAAAAAEgClDMAAAAASAKUMwAAAABIApQzAAAAAEgClDMAAAAASAKUMwAAAABIAv8fwm7HibPOSewAAAAASUVORK5CYII=\n"
          },
          "metadata": {
            "needs_background": "light"
          }
        }
      ]
    },
    {
      "cell_type": "code",
      "source": [
        ""
      ],
      "metadata": {
        "id": "YLBELdjaJ-1i"
      },
      "execution_count": null,
      "outputs": []
    }
  ]
}