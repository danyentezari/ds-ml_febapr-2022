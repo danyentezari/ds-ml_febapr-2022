{
  "nbformat": 4,
  "nbformat_minor": 0,
  "metadata": {
    "colab": {
      "name": "image_recognition_resnet50.ipynb",
      "provenance": []
    },
    "kernelspec": {
      "name": "python3",
      "display_name": "Python 3"
    },
    "language_info": {
      "name": "python"
    }
  },
  "cells": [
    {
      "cell_type": "code",
      "metadata": {
        "id": "N5BhfKobA8sh"
      },
      "source": [
        "# Import all libraries\n",
        "import numpy as np\n",
        "# Import image object for reading images\n",
        "from keras.preprocessing import image\n",
        "# Import ResNet50, a pre-trained Deep Learning model\n",
        "from keras.applications import resnet50"
      ],
      "execution_count": null,
      "outputs": []
    },
    {
      "cell_type": "code",
      "metadata": {
        "id": "L-pMOQ8KCjqy"
      },
      "source": [
        "model = resnet50.ResNet50()"
      ],
      "execution_count": null,
      "outputs": []
    },
    {
      "cell_type": "code",
      "metadata": {
        "id": "GXU6mbk7CuPk"
      },
      "source": [
        "# Rescale the image\n",
        "theImage = image.load_img('./jumeirah.jpeg', target_size=(224, 224))"
      ],
      "execution_count": null,
      "outputs": []
    },
    {
      "cell_type": "code",
      "metadata": {
        "id": "MUTUFSP4DfW0"
      },
      "source": [
        "# Convert the image files into a numpy array\n",
        "theImageData = image.img_to_array(theImage)"
      ],
      "execution_count": null,
      "outputs": []
    },
    {
      "cell_type": "code",
      "metadata": {
        "id": "iWAXe56FEDHO"
      },
      "source": [
        "# Expand the dimensions of theImageData array\n",
        "theImageData = np.expand_dims(theImageData, axis=0) "
      ],
      "execution_count": null,
      "outputs": []
    },
    {
      "cell_type": "code",
      "metadata": {
        "id": "l5ieyJSBEYm6"
      },
      "source": [
        "# Feed theImageData to resnet50 for reading\n",
        "theImageData = resnet50.preprocess_input(theImageData)"
      ],
      "execution_count": null,
      "outputs": []
    },
    {
      "cell_type": "code",
      "metadata": {
        "id": "yhjBvxK-E9Gf"
      },
      "source": [
        "# Predict the subject(s) in the image\n",
        "predictions = model.predict(theImageData)"
      ],
      "execution_count": null,
      "outputs": []
    },
    {
      "cell_type": "code",
      "metadata": {
        "colab": {
          "base_uri": "https://localhost:8080/"
        },
        "id": "8e3yxq_GFVaf",
        "outputId": "48f4a73e-c34e-4425-8de0-38b7051a9dc8"
      },
      "source": [
        "# Get the classes in which the contents of the image will be put into\n",
        "predictedClasses = resnet50.decode_predictions(predictions, top=9)\n",
        "\n",
        "print(predictedClasses)"
      ],
      "execution_count": null,
      "outputs": [
        {
          "output_type": "stream",
          "text": [
            "[[('n09428293', 'seashore', 0.82377905), ('n09332890', 'lakeside', 0.07104166), ('n02894605', 'breakwater', 0.0502518), ('n09421951', 'sandbar', 0.008691627), ('n04228054', 'ski', 0.003331091), ('n03888257', 'parachute', 0.0025424052), ('n04273569', 'speedboat', 0.002057872), ('n04486054', 'triumphal_arch', 0.0017979813), ('n02930766', 'cab', 0.0016522926)]]\n"
          ],
          "name": "stdout"
        }
      ]
    },
    {
      "cell_type": "code",
      "metadata": {
        "colab": {
          "base_uri": "https://localhost:8080/"
        },
        "id": "13KiC0m7Fp6x",
        "outputId": "c466e3b0-5834-4aa9-f391-fd60c9396c21"
      },
      "source": [
        "print(\"This image is...\")\n",
        "\n",
        "for imagenet_id, name, likelihood in predictedClasses[0]:\n",
        "  print( \"{}: {:2f} likelihood\".format(name, likelihood) )"
      ],
      "execution_count": null,
      "outputs": [
        {
          "output_type": "stream",
          "text": [
            "This image is...\n",
            "seashore: 0.823779 likelihood\n",
            "lakeside: 0.071042 likelihood\n",
            "breakwater: 0.050252 likelihood\n",
            "sandbar: 0.008692 likelihood\n",
            "ski: 0.003331 likelihood\n",
            "parachute: 0.002542 likelihood\n",
            "speedboat: 0.002058 likelihood\n",
            "triumphal_arch: 0.001798 likelihood\n",
            "cab: 0.001652 likelihood\n"
          ],
          "name": "stdout"
        }
      ]
    }
  ]
}